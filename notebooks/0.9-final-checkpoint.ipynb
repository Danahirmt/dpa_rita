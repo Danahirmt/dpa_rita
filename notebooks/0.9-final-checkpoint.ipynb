{
 "cells": [
  {
   "cell_type": "code",
   "execution_count": 6,
   "metadata": {},
   "outputs": [
    {
     "name": "stdout",
     "output_type": "stream",
     "text": [
      "Requirement already satisfied: boto3 in /opt/conda/lib/python3.7/site-packages (1.13.19)\n",
      "Requirement already satisfied: s3transfer<0.4.0,>=0.3.0 in /opt/conda/lib/python3.7/site-packages (from boto3) (0.3.3)\n",
      "Requirement already satisfied: jmespath<1.0.0,>=0.7.1 in /opt/conda/lib/python3.7/site-packages (from boto3) (0.10.0)\n",
      "Requirement already satisfied: botocore<1.17.0,>=1.16.19 in /opt/conda/lib/python3.7/site-packages (from boto3) (1.16.19)\n",
      "Requirement already satisfied: docutils<0.16,>=0.10 in /opt/conda/lib/python3.7/site-packages (from botocore<1.17.0,>=1.16.19->boto3) (0.15.2)\n",
      "Requirement already satisfied: urllib3<1.26,>=1.20; python_version != \"3.4\" in /opt/conda/lib/python3.7/site-packages (from botocore<1.17.0,>=1.16.19->boto3) (1.25.7)\n",
      "Requirement already satisfied: python-dateutil<3.0.0,>=2.1 in /opt/conda/lib/python3.7/site-packages (from botocore<1.17.0,>=1.16.19->boto3) (2.8.1)\n",
      "Requirement already satisfied: six>=1.5 in /opt/conda/lib/python3.7/site-packages (from python-dateutil<3.0.0,>=2.1->botocore<1.17.0,>=1.16.19->boto3) (1.14.0)\n",
      "Collecting psycopg2-binary\n",
      "  Downloading psycopg2_binary-2.8.5-cp37-cp37m-manylinux1_x86_64.whl (2.9 MB)\n",
      "\u001b[K     |████████████████████████████████| 2.9 MB 60 kB/s eta 0:00:012\n",
      "\u001b[?25hInstalling collected packages: psycopg2-binary\n",
      "Successfully installed psycopg2-binary-2.8.5\n"
     ]
    }
   ],
   "source": [
    "!pip install boto3\n",
    "!pip install psycopg2-binary"
   ]
  },
  {
   "cell_type": "markdown",
   "metadata": {},
   "source": [
    "### Checkpoint 6: Final mile(s)\n",
    "+ Pipeline de predicción: Su requieres tendría que buscar el pkl en S3 (training) y haber pasado la validación de FE\n",
    "  + Las predicciones se guardan en S3 y en RDS\n",
    "  + Metadata de predicción en RDS -> gobernanza de modelos (guardar el uuid del archivo con las predicciones)\n",
    "  + Al menos 2 validaciones sobre las predicciones\n",
    "+ Cálculo de bias y fairness con el mejor modelo seleccionado durante el training (a través de python no Web!)\n",
    "  + Persistencia de bias/fairnes, métricas.\n",
    "  + Metadata de bias\n",
    "+ API para exponer tus predicciones, al menos 1 endpoint\n",
    "+ Dashboard de monitoreo de modelo\n",
    "+ README completo, cualquiera que se meta a su github puede reproducir su producto de datos siguiendo sus\n",
    "instrucciones\n",
    "  + Agrega el requirements.txt de tu pyenv\n",
    "  + Agrega una foto de tu pipeline completo todo en verde!\n",
    "\n",
    "Proceso:\n",
    "+ Corremos bias y fairness del mejor modelo\n",
    "  + Visualización de Pipeline\n",
    "  + Persistencia de datos\n",
    "  + Verificación de persistencia de metadatos\n",
    "+ Corremos predicciones\n",
    "  + Visualización de tu pipeline\n",
    "+ Verificamos metadata de predicciones\n",
    "+ Validaciones de predicciones marbles\n",
    "  + Primera vez no pasa (si guardas metadatos, se guardan cuando falla)\n",
    "  + Segunda vez pasa, guarda metadatos\n",
    "+ Verificamos el endpoint de tu API\n",
    "  + Regresamos predicciones\n",
    "+ Verificamos dashboard de monitoreo"
   ]
  },
  {
   "cell_type": "markdown",
   "metadata": {},
   "source": [
    "# 0. Configuración Inicial\n",
    "\n",
    "1. Iniciar EC2 (ssh)\n",
    "```\n",
    "ssh -i \"dpa_prueba.pem\" ubuntu@ec2-54-210-110-241.compute-1.amazonaws.com\n",
    "```\n",
    "2. Correr Docker\n",
    "\n",
    "```\n",
    "sudo docker run --rm -it \\\n",
    "-v /home/ubuntu/dpa_rita:/home  \\\n",
    "-v $HOME/.aws:/root/.aws:ro  \\\n",
    "-v $HOME/.rita:/root/.rita \\\n",
    "--entrypoint \"/bin/bash\" \\\n",
    "--net=host \\\n",
    "paolamedo/aws_rita:6.0.1\n",
    "```\n",
    "\n",
    "3. Correr luigi\n",
    "```\n",
    "$luigid\n",
    "```\n",
    "\n",
    "4. Crear puente\n",
    "```\n",
    "ssh -i \"dpa_prueba.pem\" -N -f -L localhost:8082:localhost:8082 ubuntu@ec2-54-210-110-241.compute-1.amazonaws.com\n",
    "```\n",
    "\n",
    "5. Ver luigi\n",
    "```\n",
    "localhost:8082\n",
    "```\n",
    "\n",
    "6. Otra ventana, dentro de docker\n",
    "```\n",
    "cd /home\n",
    "python3 setup.py install\n",
    "cd src/orquestadores\n",
    "```\n"
   ]
  },
  {
   "cell_type": "code",
   "execution_count": 15,
   "metadata": {},
   "outputs": [
    {
     "name": "stdout",
     "output_type": "stream",
     "text": [
      "The autoreload extension is already loaded. To reload it, use:\n",
      "  %reload_ext autoreload\n"
     ]
    }
   ],
   "source": [
    "import sys\n",
    "sys.path.append('./../')\n",
    "%load_ext autoreload\n",
    "%autoreload 2\n",
    "\n",
    "import pandas as pd\n",
    "\n",
    "from src.utils.s3_utils import create_bucket, get_s3_objects, describe_s3\n",
    "from src.utils.db_utils import execute_query, show_select,get_select, get_dataframe"
   ]
  },
  {
   "cell_type": "markdown",
   "metadata": {},
   "source": [
    "## 0.1 Reinicia\n",
    "\n",
    "1. Borra modelos\n",
    "```\n",
    "aws s3 rm s3://models-dpa --recursive\n",
    "```\n",
    "\n",
    "2. Borra metadata\n",
    "\n",
    "```\n",
    "delete from metadatos.bias;\n",
    "delete from metadatos.models;\n",
    "```\n",
    "\n",
    "3. Corre modelo\n",
    "```\n",
    "PYTHONPATH='.' AWS_PROFILE=dpa luigi --module modelling  RunModelSimple --local-scheduler\n",
    "```"
   ]
  },
  {
   "cell_type": "code",
   "execution_count": 25,
   "metadata": {},
   "outputs": [
    {
     "name": "stdout",
     "output_type": "stream",
     "text": [
      "s3.Bucket(name='models-dpa') s3.ObjectSummary(bucket_name='models-dpa', key='30052020_0-1.5_LR_=#iter#-%1$%#pca#-%3&.model.zip') 6599\n",
      "s3.Bucket(name='models-dpa') s3.ObjectSummary(bucket_name='models-dpa', key='30052020_0-1.5_LR_=#iter#-%200$%#pca#-%8&.model.zip') 6675\n"
     ]
    }
   ],
   "source": [
    "bucket_name = \"models-dpa\"\n",
    "get_s3_objects(bucket_name)"
   ]
  },
  {
   "cell_type": "code",
   "execution_count": 26,
   "metadata": {},
   "outputs": [
    {
     "data": {
      "text/html": [
       "<div>\n",
       "<style scoped>\n",
       "    .dataframe tbody tr th:only-of-type {\n",
       "        vertical-align: middle;\n",
       "    }\n",
       "\n",
       "    .dataframe tbody tr th {\n",
       "        vertical-align: top;\n",
       "    }\n",
       "\n",
       "    .dataframe thead th {\n",
       "        text-align: right;\n",
       "    }\n",
       "</style>\n",
       "<table border=\"1\" class=\"dataframe\">\n",
       "  <thead>\n",
       "    <tr style=\"text-align: right;\">\n",
       "      <th></th>\n",
       "      <th>fecha</th>\n",
       "      <th>objetivo</th>\n",
       "      <th>model_name</th>\n",
       "      <th>s3_name</th>\n",
       "      <th>hyperparams</th>\n",
       "      <th>auroc</th>\n",
       "      <th>aupr</th>\n",
       "      <th>precision</th>\n",
       "      <th>recall</th>\n",
       "      <th>f1</th>\n",
       "      <th>train_time</th>\n",
       "      <th>test_split</th>\n",
       "      <th>train_nrows</th>\n",
       "    </tr>\n",
       "  </thead>\n",
       "  <tbody>\n",
       "    <tr>\n",
       "      <th>0</th>\n",
       "      <td>30052020</td>\n",
       "      <td>0-1.5</td>\n",
       "      <td>LR</td>\n",
       "      <td>30052020_0-1.5_LR_=#iter#-%200$%#pca#-%8&amp;</td>\n",
       "      <td>{\"iter\": 200, \"pca\": 8}</td>\n",
       "      <td>0.677340</td>\n",
       "      <td>0.995104</td>\n",
       "      <td>0.9902439024390244</td>\n",
       "      <td>0.9902439024390244</td>\n",
       "      <td>0.9902439024390244</td>\n",
       "      <td>34.976240158081055</td>\n",
       "      <td>0.2</td>\n",
       "      <td>795</td>\n",
       "    </tr>\n",
       "    <tr>\n",
       "      <th>1</th>\n",
       "      <td>30052020</td>\n",
       "      <td>0-1.5</td>\n",
       "      <td>LR</td>\n",
       "      <td>30052020_0-1.5_LR_=#iter#-%1$%#pca#-%3&amp;</td>\n",
       "      <td>{\"iter\": 1, \"pca\": 3}</td>\n",
       "      <td>0.482759</td>\n",
       "      <td>0.981444</td>\n",
       "      <td>0.9902439024390244</td>\n",
       "      <td>0.9902439024390244</td>\n",
       "      <td>0.9902439024390244</td>\n",
       "      <td>21.59895658493042</td>\n",
       "      <td>0.2</td>\n",
       "      <td>795</td>\n",
       "    </tr>\n",
       "  </tbody>\n",
       "</table>\n",
       "</div>"
      ],
      "text/plain": [
       "      fecha objetivo model_name                                    s3_name  \\\n",
       "0  30052020    0-1.5         LR  30052020_0-1.5_LR_=#iter#-%200$%#pca#-%8&   \n",
       "1  30052020    0-1.5         LR    30052020_0-1.5_LR_=#iter#-%1$%#pca#-%3&   \n",
       "\n",
       "               hyperparams     auroc      aupr           precision  \\\n",
       "0  {\"iter\": 200, \"pca\": 8}  0.677340  0.995104  0.9902439024390244   \n",
       "1    {\"iter\": 1, \"pca\": 3}  0.482759  0.981444  0.9902439024390244   \n",
       "\n",
       "               recall                  f1          train_time test_split  \\\n",
       "0  0.9902439024390244  0.9902439024390244  34.976240158081055        0.2   \n",
       "1  0.9902439024390244  0.9902439024390244   21.59895658493042        0.2   \n",
       "\n",
       "  train_nrows  \n",
       "0         795  \n",
       "1         795  "
      ]
     },
     "execution_count": 26,
     "metadata": {},
     "output_type": "execute_result"
    }
   ],
   "source": [
    "query = \"select * from metadatos.models order by fecha desc; \"\n",
    "get_dataframe(query)"
   ]
  },
  {
   "cell_type": "markdown",
   "metadata": {},
   "source": [
    "# 1. Corremos bias y fairness del mejor modelo"
   ]
  },
  {
   "cell_type": "markdown",
   "metadata": {},
   "source": [
    "## 1.1 Persistencia de datos\n",
    "Verificar tabla antes"
   ]
  },
  {
   "cell_type": "code",
   "execution_count": 22,
   "metadata": {},
   "outputs": [
    {
     "name": "stdout",
     "output_type": "stream",
     "text": [
      "Error while fetching data from PostgreSQL Length mismatch: Expected axis has 0 elements, new values have 10 elements\n"
     ]
    }
   ],
   "source": [
    "query = \"select * from metadatos.bias order by fecha desc; \"\n",
    "get_dataframe(query)"
   ]
  },
  {
   "cell_type": "markdown",
   "metadata": {},
   "source": [
    "## 1.2  Visualización de Pipeline\n",
    "\n",
    "```\n",
    "PYTHONPATH='.' AWS_PROFILE=dpa luigi --module bias EvaluateBias --local-scheduler\n",
    "```\n",
    "\n",
    "Ambos son lo mismo: [FALTA PROBAR ESTE]\n",
    "```\n",
    "PYTHONPATH='.' AWS_PROFILE=dpa luigi --module luigi_main  Pipeline --local-scheduler  --type train\n",
    "```"
   ]
  },
  {
   "cell_type": "markdown",
   "metadata": {},
   "source": [
    "## 1.3  Verificación de persistencia de metadatos"
   ]
  },
  {
   "cell_type": "code",
   "execution_count": 28,
   "metadata": {},
   "outputs": [
    {
     "data": {
      "text/html": [
       "<div>\n",
       "<style scoped>\n",
       "    .dataframe tbody tr th:only-of-type {\n",
       "        vertical-align: middle;\n",
       "    }\n",
       "\n",
       "    .dataframe tbody tr th {\n",
       "        vertical-align: top;\n",
       "    }\n",
       "\n",
       "    .dataframe thead th {\n",
       "        text-align: right;\n",
       "    }\n",
       "</style>\n",
       "<table border=\"1\" class=\"dataframe\">\n",
       "  <thead>\n",
       "    <tr style=\"text-align: right;\">\n",
       "      <th></th>\n",
       "      <th>fecha</th>\n",
       "      <th>s3_name</th>\n",
       "      <th>attribute_value_q1</th>\n",
       "      <th>attribute_value_q2</th>\n",
       "      <th>attribute_value_q3</th>\n",
       "      <th>attribute_value_q4</th>\n",
       "      <th>fpr_disparity_q1</th>\n",
       "      <th>fpr_disparity_q2</th>\n",
       "      <th>fpr_disparity_q3</th>\n",
       "      <th>fpr_disparity_q4</th>\n",
       "    </tr>\n",
       "  </thead>\n",
       "  <tbody>\n",
       "    <tr>\n",
       "      <th>0</th>\n",
       "      <td>30052020</td>\n",
       "      <td>30052020_0-1.5_LR_=#iter#-%200$%#pca#-%8&amp;</td>\n",
       "      <td>1045.00-1205.00</td>\n",
       "      <td>110.00-862.00</td>\n",
       "      <td>1205.00-2527.00</td>\n",
       "      <td>862.00-1045.00</td>\n",
       "      <td>0.961238</td>\n",
       "      <td>1.0</td>\n",
       "      <td>1.044226</td>\n",
       "      <td>0.841795</td>\n",
       "    </tr>\n",
       "  </tbody>\n",
       "</table>\n",
       "</div>"
      ],
      "text/plain": [
       "      fecha                                    s3_name attribute_value_q1  \\\n",
       "0  30052020  30052020_0-1.5_LR_=#iter#-%200$%#pca#-%8&    1045.00-1205.00   \n",
       "\n",
       "  attribute_value_q2 attribute_value_q3 attribute_value_q4  fpr_disparity_q1  \\\n",
       "0      110.00-862.00    1205.00-2527.00     862.00-1045.00          0.961238   \n",
       "\n",
       "   fpr_disparity_q2  fpr_disparity_q3  fpr_disparity_q4  \n",
       "0               1.0          1.044226          0.841795  "
      ]
     },
     "execution_count": 28,
     "metadata": {},
     "output_type": "execute_result"
    }
   ],
   "source": [
    "query = \"select * from metadatos.bias order by fecha desc; \"\n",
    "get_dataframe(query)"
   ]
  },
  {
   "cell_type": "markdown",
   "metadata": {},
   "source": [
    "## 1.4 Verificación del CopyToTable\n",
    "```\n",
    "PYTHONPATH='.' AWS_PROFILE=dpa luigi --module bias EvaluateBias --local-scheduler\n",
    "```"
   ]
  },
  {
   "cell_type": "code",
   "execution_count": 29,
   "metadata": {},
   "outputs": [
    {
     "data": {
      "text/html": [
       "<div>\n",
       "<style scoped>\n",
       "    .dataframe tbody tr th:only-of-type {\n",
       "        vertical-align: middle;\n",
       "    }\n",
       "\n",
       "    .dataframe tbody tr th {\n",
       "        vertical-align: top;\n",
       "    }\n",
       "\n",
       "    .dataframe thead th {\n",
       "        text-align: right;\n",
       "    }\n",
       "</style>\n",
       "<table border=\"1\" class=\"dataframe\">\n",
       "  <thead>\n",
       "    <tr style=\"text-align: right;\">\n",
       "      <th></th>\n",
       "      <th>fecha</th>\n",
       "      <th>s3_name</th>\n",
       "      <th>attribute_value_q1</th>\n",
       "      <th>attribute_value_q2</th>\n",
       "      <th>attribute_value_q3</th>\n",
       "      <th>attribute_value_q4</th>\n",
       "      <th>fpr_disparity_q1</th>\n",
       "      <th>fpr_disparity_q2</th>\n",
       "      <th>fpr_disparity_q3</th>\n",
       "      <th>fpr_disparity_q4</th>\n",
       "    </tr>\n",
       "  </thead>\n",
       "  <tbody>\n",
       "    <tr>\n",
       "      <th>0</th>\n",
       "      <td>30052020</td>\n",
       "      <td>30052020_0-1.5_LR_=#iter#-%200$%#pca#-%8&amp;</td>\n",
       "      <td>1045.00-1205.00</td>\n",
       "      <td>110.00-862.00</td>\n",
       "      <td>1205.00-2527.00</td>\n",
       "      <td>862.00-1045.00</td>\n",
       "      <td>0.961238</td>\n",
       "      <td>1.0</td>\n",
       "      <td>1.044226</td>\n",
       "      <td>0.841795</td>\n",
       "    </tr>\n",
       "  </tbody>\n",
       "</table>\n",
       "</div>"
      ],
      "text/plain": [
       "      fecha                                    s3_name attribute_value_q1  \\\n",
       "0  30052020  30052020_0-1.5_LR_=#iter#-%200$%#pca#-%8&    1045.00-1205.00   \n",
       "\n",
       "  attribute_value_q2 attribute_value_q3 attribute_value_q4  fpr_disparity_q1  \\\n",
       "0      110.00-862.00    1205.00-2527.00     862.00-1045.00          0.961238   \n",
       "\n",
       "   fpr_disparity_q2  fpr_disparity_q3  fpr_disparity_q4  \n",
       "0               1.0          1.044226          0.841795  "
      ]
     },
     "execution_count": 29,
     "metadata": {},
     "output_type": "execute_result"
    }
   ],
   "source": [
    "query = \"select * from metadatos.bias order by fecha desc; \"\n",
    "get_dataframe(query)"
   ]
  },
  {
   "cell_type": "markdown",
   "metadata": {},
   "source": [
    "# 2. Corremos predicciones\n",
    "\n",
    "+ Validaciones de predicciones marbles\n",
    "  + Primera vez no pasa (si guardas metadatos, se guardan cuando falla)\n",
    "  + Segunda vez pasa, guarda metadatos\n",
    "  \n",
    "+ Visualización de tu pipeline\n",
    "+ Verificamos metadata de predicciones"
   ]
  },
  {
   "cell_type": "markdown",
   "metadata": {},
   "source": [
    "## 2.1 Validaciones de predicciones marbles"
   ]
  },
  {
   "cell_type": "code",
   "execution_count": 32,
   "metadata": {},
   "outputs": [
    {
     "name": "stdout",
     "output_type": "stream",
     "text": [
      "Error while fetching data from PostgreSQL Length mismatch: Expected axis has 0 elements, new values have 4 elements\n"
     ]
    }
   ],
   "source": [
    "query = \"select * from metadatos.testing_predict_cols order by fecha desc; \"\n",
    "get_dataframe(query)"
   ]
  },
  {
   "cell_type": "code",
   "execution_count": 33,
   "metadata": {},
   "outputs": [
    {
     "name": "stdout",
     "output_type": "stream",
     "text": [
      "Error while fetching data from PostgreSQL Length mismatch: Expected axis has 0 elements, new values have 4 elements\n"
     ]
    }
   ],
   "source": [
    "query = \"select * from metadatos.testing_predict_types order by fecha desc; \"\n",
    "get_dataframe(query)"
   ]
  },
  {
   "cell_type": "markdown",
   "metadata": {},
   "source": [
    "### 2.1.1 Primera vez no pasa (si guardas metadatos, se guardan cuando falla)"
   ]
  },
  {
   "cell_type": "markdown",
   "metadata": {},
   "source": [
    "1. Modificar src/unit_tests_predict_columns.py (donde dice #PARA QUE FALLE)\n",
    "2. Correr task de predict\n",
    "```\n",
    "cd /home\n",
    "python3 setup.py install\n",
    "cd src/orquestadores\n",
    "PYTHONPATH='.' AWS_PROFILE=dpa luigi --module predictions CreatePredictions --local-scheduler\n",
    "```\n"
   ]
  },
  {
   "cell_type": "code",
   "execution_count": 35,
   "metadata": {},
   "outputs": [
    {
     "data": {
      "text/html": [
       "<div>\n",
       "<style scoped>\n",
       "    .dataframe tbody tr th:only-of-type {\n",
       "        vertical-align: middle;\n",
       "    }\n",
       "\n",
       "    .dataframe tbody tr th {\n",
       "        vertical-align: top;\n",
       "    }\n",
       "\n",
       "    .dataframe thead th {\n",
       "        text-align: right;\n",
       "    }\n",
       "</style>\n",
       "<table border=\"1\" class=\"dataframe\">\n",
       "  <thead>\n",
       "    <tr style=\"text-align: right;\">\n",
       "      <th></th>\n",
       "      <th>fecha</th>\n",
       "      <th>nombre_task</th>\n",
       "      <th>task_status</th>\n",
       "      <th>msg_error</th>\n",
       "    </tr>\n",
       "  </thead>\n",
       "  <tbody>\n",
       "    <tr>\n",
       "      <th>0</th>\n",
       "      <td>30052020</td>\n",
       "      <td>check_columns</td>\n",
       "      <td>failure</td>\n",
       "      <td>number of columns do not match</td>\n",
       "    </tr>\n",
       "  </tbody>\n",
       "</table>\n",
       "</div>"
      ],
      "text/plain": [
       "      fecha    nombre_task task_status                       msg_error\n",
       "0  30052020  check_columns     failure  number of columns do not match"
      ]
     },
     "execution_count": 35,
     "metadata": {},
     "output_type": "execute_result"
    }
   ],
   "source": [
    "query = \"select * from metadatos.testing_predict_cols order by fecha desc; \"\n",
    "get_dataframe(query)"
   ]
  },
  {
   "cell_type": "markdown",
   "metadata": {},
   "source": [
    "### 2.1.2 Segunda vez pasa, guarda metadatos"
   ]
  },
  {
   "cell_type": "markdown",
   "metadata": {},
   "source": [
    "3. Volver a modificar\n",
    "4. Correr task de predict\n",
    "```\n",
    "cd /home\n",
    "python3 setup.py install\n",
    "cd src/orquestadores\n",
    "PYTHONPATH='.' AWS_PROFILE=dpa luigi --module predictions CreatePredictions --local-scheduler\n",
    "```"
   ]
  },
  {
   "cell_type": "code",
   "execution_count": 36,
   "metadata": {},
   "outputs": [
    {
     "data": {
      "text/html": [
       "<div>\n",
       "<style scoped>\n",
       "    .dataframe tbody tr th:only-of-type {\n",
       "        vertical-align: middle;\n",
       "    }\n",
       "\n",
       "    .dataframe tbody tr th {\n",
       "        vertical-align: top;\n",
       "    }\n",
       "\n",
       "    .dataframe thead th {\n",
       "        text-align: right;\n",
       "    }\n",
       "</style>\n",
       "<table border=\"1\" class=\"dataframe\">\n",
       "  <thead>\n",
       "    <tr style=\"text-align: right;\">\n",
       "      <th></th>\n",
       "      <th>fecha</th>\n",
       "      <th>nombre_task</th>\n",
       "      <th>task_status</th>\n",
       "      <th>msg_error</th>\n",
       "    </tr>\n",
       "  </thead>\n",
       "  <tbody>\n",
       "    <tr>\n",
       "      <th>0</th>\n",
       "      <td>30052020</td>\n",
       "      <td>check_columns</td>\n",
       "      <td>failure</td>\n",
       "      <td>number of columns do not match</td>\n",
       "    </tr>\n",
       "    <tr>\n",
       "      <th>1</th>\n",
       "      <td>30052020</td>\n",
       "      <td>check_columns</td>\n",
       "      <td>success</td>\n",
       "      <td>none</td>\n",
       "    </tr>\n",
       "  </tbody>\n",
       "</table>\n",
       "</div>"
      ],
      "text/plain": [
       "      fecha    nombre_task task_status                       msg_error\n",
       "0  30052020  check_columns     failure  number of columns do not match\n",
       "1  30052020  check_columns     success                            none"
      ]
     },
     "execution_count": 36,
     "metadata": {},
     "output_type": "execute_result"
    }
   ],
   "source": [
    "query = \"select * from metadatos.testing_predict_cols order by fecha desc; \"\n",
    "get_dataframe(query)"
   ]
  },
  {
   "cell_type": "code",
   "execution_count": 37,
   "metadata": {},
   "outputs": [
    {
     "data": {
      "text/html": [
       "<div>\n",
       "<style scoped>\n",
       "    .dataframe tbody tr th:only-of-type {\n",
       "        vertical-align: middle;\n",
       "    }\n",
       "\n",
       "    .dataframe tbody tr th {\n",
       "        vertical-align: top;\n",
       "    }\n",
       "\n",
       "    .dataframe thead th {\n",
       "        text-align: right;\n",
       "    }\n",
       "</style>\n",
       "<table border=\"1\" class=\"dataframe\">\n",
       "  <thead>\n",
       "    <tr style=\"text-align: right;\">\n",
       "      <th></th>\n",
       "      <th>fecha</th>\n",
       "      <th>nombre_task</th>\n",
       "      <th>task_status</th>\n",
       "      <th>msg_error</th>\n",
       "    </tr>\n",
       "  </thead>\n",
       "  <tbody>\n",
       "    <tr>\n",
       "      <th>0</th>\n",
       "      <td>30052020</td>\n",
       "      <td>check_columns_types</td>\n",
       "      <td>success</td>\n",
       "      <td>none</td>\n",
       "    </tr>\n",
       "  </tbody>\n",
       "</table>\n",
       "</div>"
      ],
      "text/plain": [
       "      fecha          nombre_task task_status msg_error\n",
       "0  30052020  check_columns_types     success      none"
      ]
     },
     "execution_count": 37,
     "metadata": {},
     "output_type": "execute_result"
    }
   ],
   "source": [
    "query = \"select * from metadatos.testing_predict_types order by fecha desc; \"\n",
    "get_dataframe(query)"
   ]
  },
  {
   "cell_type": "markdown",
   "metadata": {},
   "source": [
    "## 2.2 Visualización de tu pipeline\n",
    "En localhost orquestador"
   ]
  },
  {
   "cell_type": "markdown",
   "metadata": {},
   "source": [
    "## 2.3 Verificamos metadata de predicciones"
   ]
  },
  {
   "cell_type": "code",
   "execution_count": 40,
   "metadata": {},
   "outputs": [
    {
     "data": {
      "text/html": [
       "<div>\n",
       "<style scoped>\n",
       "    .dataframe tbody tr th:only-of-type {\n",
       "        vertical-align: middle;\n",
       "    }\n",
       "\n",
       "    .dataframe tbody tr th {\n",
       "        vertical-align: top;\n",
       "    }\n",
       "\n",
       "    .dataframe thead th {\n",
       "        text-align: right;\n",
       "    }\n",
       "</style>\n",
       "<table border=\"1\" class=\"dataframe\">\n",
       "  <thead>\n",
       "    <tr style=\"text-align: right;\">\n",
       "      <th></th>\n",
       "      <th>fecha</th>\n",
       "      <th>s3_name_model</th>\n",
       "      <th>s3_name_pred</th>\n",
       "      <th>number_pred</th>\n",
       "      <th>binary_stats</th>\n",
       "    </tr>\n",
       "  </thead>\n",
       "  <tbody>\n",
       "    <tr>\n",
       "      <th>0</th>\n",
       "      <td>30052020</td>\n",
       "      <td>30052020_0-1.5_LR_=#iter#-%200$%#pca#-%8&amp;</td>\n",
       "      <td>30052020_0-1.5_LR_=#iter#-%200$%#pca#-%8&amp;.preds</td>\n",
       "      <td>1000</td>\n",
       "      <td>1.0</td>\n",
       "    </tr>\n",
       "    <tr>\n",
       "      <th>1</th>\n",
       "      <td>29052020</td>\n",
       "      <td>18052020_0-1.5_LR_=#iter#-%1$%#pca#-%1&amp;</td>\n",
       "      <td>18052020_0-1.5_LR_=#iter#-%1$%#pca#-%1&amp;.preds</td>\n",
       "      <td>1000</td>\n",
       "      <td>1.0</td>\n",
       "    </tr>\n",
       "    <tr>\n",
       "      <th>2</th>\n",
       "      <td>27052020</td>\n",
       "      <td>18052020_0-1.5_LR_=#iter#-%1$%#pca#-%1&amp;</td>\n",
       "      <td>18052020_0-1.5_LR_=#iter#-%1$%#pca#-%1&amp;.preds</td>\n",
       "      <td>1000</td>\n",
       "      <td>1.0</td>\n",
       "    </tr>\n",
       "  </tbody>\n",
       "</table>\n",
       "</div>"
      ],
      "text/plain": [
       "      fecha                              s3_name_model  \\\n",
       "0  30052020  30052020_0-1.5_LR_=#iter#-%200$%#pca#-%8&   \n",
       "1  29052020    18052020_0-1.5_LR_=#iter#-%1$%#pca#-%1&   \n",
       "2  27052020    18052020_0-1.5_LR_=#iter#-%1$%#pca#-%1&   \n",
       "\n",
       "                                      s3_name_pred  number_pred  binary_stats  \n",
       "0  30052020_0-1.5_LR_=#iter#-%200$%#pca#-%8&.preds         1000           1.0  \n",
       "1    18052020_0-1.5_LR_=#iter#-%1$%#pca#-%1&.preds         1000           1.0  \n",
       "2    18052020_0-1.5_LR_=#iter#-%1$%#pca#-%1&.preds         1000           1.0  "
      ]
     },
     "execution_count": 40,
     "metadata": {},
     "output_type": "execute_result"
    }
   ],
   "source": [
    "query = \"select * from metadatos.predictions order by fecha desc; \"\n",
    "get_dataframe(query)"
   ]
  },
  {
   "cell_type": "markdown",
   "metadata": {},
   "source": [
    "# 3. Verificamos el endpoint de tu API\n",
    "\n",
    "1. Instala flask\n",
    "```\n",
    " pip install flask_restx\n",
    "```\n",
    "\n",
    "2. Crear puente\n",
    "```\n",
    "ssh -i \"dpa_prueba.pem\" -N -f -L localhost:5000:localhost:5000 ubuntu@ec2-54-210-110-241.compute-1.amazonaws.com\n",
    "```\n",
    "\n",
    "3. Corre app\n",
    "```\n",
    "cd /home\n",
    "python3 setup.py install\n",
    "cd src/deploy\n",
    "python3 app.py\n",
    "```\n",
    "\n",
    "4. Ver predicciones \n",
    "```\n",
    "http://127.0.0.1:5000/predicts/1609\n",
    "```\n",
    "\n",
    "5. Ver swagger\n",
    "```\n",
    "http://127.0.0.1:5000/swagger.json\n",
    "```\n",
    "\n"
   ]
  },
  {
   "cell_type": "markdown",
   "metadata": {},
   "source": [
    "# 4. Verificamos dashboard de monitoreo"
   ]
  },
  {
   "cell_type": "markdown",
   "metadata": {},
   "source": []
  },
  {
   "cell_type": "code",
   "execution_count": null,
   "metadata": {},
   "outputs": [],
   "source": []
  }
 ],
 "metadata": {
  "kernelspec": {
   "display_name": "Python 3",
   "language": "python",
   "name": "python3"
  },
  "language_info": {
   "codemirror_mode": {
    "name": "ipython",
    "version": 3
   },
   "file_extension": ".py",
   "mimetype": "text/x-python",
   "name": "python",
   "nbconvert_exporter": "python",
   "pygments_lexer": "ipython3",
   "version": "3.7.6"
  }
 },
 "nbformat": 4,
 "nbformat_minor": 4
}
