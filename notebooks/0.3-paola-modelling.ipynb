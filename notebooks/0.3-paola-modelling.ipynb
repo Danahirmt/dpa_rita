{
 "cells": [
  {
   "cell_type": "code",
   "execution_count": 50,
   "metadata": {},
   "outputs": [
    {
     "data": {
      "text/plain": [
       "0       0.0\n",
       "1       0.0\n",
       "2       0.0\n",
       "3       0.0\n",
       "4       0.0\n",
       "       ... \n",
       "9995    0.0\n",
       "9996    0.0\n",
       "9997    0.0\n",
       "9998    0.0\n",
       "9999    0.0\n",
       "Name: Cancelled, Length: 10000, dtype: float64"
      ]
     },
     "execution_count": 50,
     "metadata": {},
     "output_type": "execute_result"
    }
   ],
   "source": [
    "import pandas as pd\n",
    "direccion = \"./../data/raw/prueba.csv\"\n",
    "df = pd.read_csv(direccion, nrows = 10000)\n",
    "df.head()\n",
    "\n",
    "df.Cancelled"
   ]
  },
  {
   "cell_type": "code",
   "execution_count": 15,
   "metadata": {},
   "outputs": [],
   "source": [
    "direccion = \"./../data/raw/prueba.csv\"\n",
    "\n",
    "from pyspark.sql import SparkSession\n",
    "\n",
    "spark = SparkSession \\\n",
    "    .builder \\\n",
    "    .appName(\"Python Spark SQL basic example\") \\\n",
    "    .config(\"spark.some.config.option\", \"some-value\") \\\n",
    "    .getOrCreate()\n",
    "\n",
    "df = spark.read.csv(direccion, header=\"true\", inferSchema=\"true\").limit(10000)"
   ]
  },
  {
   "cell_type": "code",
   "execution_count": 16,
   "metadata": {},
   "outputs": [],
   "source": [
    "def clean(df):\n",
    "    #Pasar a minusculas los nombres de columnas\n",
    "    for col in df.columns:\n",
    "        df = df.withColumnRenamed(col, col.lower())\n",
    "\n",
    "    #Seleccionar columnas no vacias \n",
    "\n",
    "    base = df.select(df.year,df.quarter, df.month, df.dayofmonth, df.dayofweek, df.flightdate, df.reporting_airline, df.dot_id_reporting_airline, df.iata_code_reporting_airline, df.tail_number, df.flight_number_reporting_airline, df.originairportid, df.originairportseqid, df.origincitymarketid, df.origin, df.origincityname, df.originstate, df.originstatefips, df.originstatename, df.originwac, df.destairportid, df.destairportseqid, df.destcitymarketid, df.dest, df.destcityname, df.deststate, df.deststatefips, df.deststatename, df.destwac, df.crsdeptime, df.deptime, df.depdelay, df.depdelayminutes, df.depdel15, df.departuredelaygroups, df.deptimeblk, df.taxiout, df.wheelsoff, df.wheelson, df.taxiin, df.crsarrtime, df.arrtime, df.arrdelay, df.arrdelayminutes, df.arrdel15, df.arrivaldelaygroups, df.arrtimeblk, df.cancelled, df.diverted, df.crselapsedtime, df.actualelapsedtime, df.airtime, df.flights, df.distance, df.distancegroup, df.divairportlandings )\n",
    "\n",
    "    #agregar columna con clasificación de tiempo en horas de atraso del vuelo 0-1.5, 1.5-3.5,3.5-, cancelled\n",
    "\n",
    "    from pyspark.sql import functions as f\n",
    "    base = base.withColumn('rangoatrasohoras', f.when(f.col('cancelled') == 1, \"cancelled\").when(f.col('depdelayminutes') < 90, \"0-1.5\").when((f.col('depdelayminutes') > 90) & (f.col('depdelayminutes')<210), \"1.5-3.5\").otherwise(\"3.5-\"))\n",
    "\n",
    "    from pyspark.sql.functions import udf\n",
    "    from pyspark.sql.types import StringType\n",
    "    from pyspark.sql.functions import col, lower, regexp_replace, split\n",
    "\n",
    "    #Función limpieza\n",
    "    def clean_text(c):\n",
    "        c = lower(c)\n",
    "        c = regexp_replace(c, \" \", \"_\")\n",
    "        c = f.split(c, '\\,')[0]\n",
    "        return c\n",
    "\n",
    "\n",
    "     # Aplicación de la función limpieza\n",
    "    base = base.withColumn(\"origincityname\", clean_text(col(\"origincityname\")))\n",
    "    base = base.withColumn(\"destcityname\", clean_text(col(\"destcityname\")))\n",
    "    return base"
   ]
  },
  {
   "cell_type": "code",
   "execution_count": 17,
   "metadata": {},
   "outputs": [],
   "source": [
    "df_clean = clean(df)"
   ]
  },
  {
   "cell_type": "code",
   "execution_count": 86,
   "metadata": {},
   "outputs": [
    {
     "data": {
      "text/plain": [
       "['depdelay_imputed',\n",
       " 'depdelayminutes_imputed',\n",
       " 'depdel15_imputed',\n",
       " 'taxiout_imputed',\n",
       " 'taxiin_imputed',\n",
       " 'arrdelay_imputed',\n",
       " 'arrdelayminutes_imputed',\n",
       " 'arrdel15_imputed',\n",
       " 'cancelled_imputed',\n",
       " 'diverted_imputed',\n",
       " 'crselapsedtime_imputed',\n",
       " 'actualelapsedtime_imputed',\n",
       " 'airtime_imputed',\n",
       " 'flights_imputed',\n",
       " 'distance_imputed',\n",
       " 'year',\n",
       " 'quarter',\n",
       " 'month',\n",
       " 'dayofmonth',\n",
       " 'dayofweek',\n",
       " 'dot_id_reporting_airline',\n",
       " 'flight_number_reporting_airline',\n",
       " 'originairportid',\n",
       " 'originairportseqid',\n",
       " 'origincitymarketid',\n",
       " 'originstatefips',\n",
       " 'originwac',\n",
       " 'destairportid',\n",
       " 'destairportseqid',\n",
       " 'destcitymarketid',\n",
       " 'deststatefips',\n",
       " 'destwac',\n",
       " 'crsdeptime',\n",
       " 'deptime',\n",
       " 'departuredelaygroups',\n",
       " 'wheelsoff',\n",
       " 'wheelson',\n",
       " 'crsarrtime',\n",
       " 'arrtime',\n",
       " 'arrivaldelaygroups',\n",
       " 'distancegroup',\n",
       " 'divairportlandings',\n",
       " 'rangoatrasohoras']"
      ]
     },
     "execution_count": 86,
     "metadata": {},
     "output_type": "execute_result"
    }
   ],
   "source": [
    "type(df_clean)\n",
    "from pyspark.sql.types import IntegerType, DoubleType\n",
    "\n",
    "double_cols = [f.name for f in df_clean.schema.fields if isinstance(f.dataType, DoubleType)]\n",
    "int_cols = [f.name for f in df_clean.schema.fields if isinstance(f.dataType, IntegerType)]\n",
    "num_cols = int_cols + double_cols\n",
    "\n",
    "cols = num_cols + ['rangoatrasohoras']\n",
    "\n",
    "df_num = df_clean[cols]\n",
    "\n",
    "# MISSING VALUES\n",
    "# POR AHORA ZEROS (MANEJAR ESTO DESPUES)\n",
    "#df_na = df_num.fill(0)\n",
    "\n",
    "numericals_imputed = [var + \"_imputed\" for var in double_cols]\n",
    "\n",
    "from pyspark.ml.feature import Imputer\n",
    "\n",
    "imputer = Imputer(inputCols = double_cols, outputCols = numericals_imputed)\n",
    "df_impute = imputer.setStrategy(\"median\").fit(df_num).transform(df_num)\n",
    "new_vars = numericals_imputed + int_cols + ['rangoatrasohoras']\n",
    "df_impute = df_impute[new_vars]\n",
    "\n",
    "df_impute = df_impute.fillna(0, subset=int_cols)\n",
    "\n",
    "df_impute.columns\n"
   ]
  },
  {
   "cell_type": "code",
   "execution_count": 88,
   "metadata": {},
   "outputs": [
    {
     "name": "stdout",
     "output_type": "stream",
     "text": [
      "+---+--------------------+----------------+\n",
      "| id|            features|rangoatrasohoras|\n",
      "+---+--------------------+----------------+\n",
      "|  0|[-4.0,0.0,0.0,9.0...|           0-1.5|\n",
      "|  1|[18.0,18.0,1.0,13...|           0-1.5|\n",
      "+---+--------------------+----------------+\n",
      "only showing top 2 rows\n",
      "\n"
     ]
    }
   ],
   "source": [
    "from pyspark.sql.functions import monotonically_increasing_id\n",
    "\n",
    "# This will return a new DF with all the columns + id\n",
    "df_id  = df_impute.withColumn(\"id\",monotonically_increasing_id())\n",
    "\n",
    "nuevas_vars =  [x for x in df_id.columns if x not in ['rangoatrasohoras']]\n",
    "\n",
    "from pyspark.ml.feature import VectorAssembler\n",
    "assembler = VectorAssembler(inputCols=nuevas_vars ,outputCol=\"features\")\n",
    "assembler = assembler.transform(df_id)\n",
    "\n",
    "keep_vars = [\"id\", \"features\", 'rangoatrasohoras']\n",
    "df_assembler = assembler[keep_vars]\n",
    "df_assembler.show(2)"
   ]
  },
  {
   "cell_type": "markdown",
   "metadata": {},
   "source": [
    "## Modelado"
   ]
  },
  {
   "cell_type": "markdown",
   "metadata": {},
   "source": [
    "###  Formato al Dataframe "
   ]
  },
  {
   "cell_type": "code",
   "execution_count": null,
   "metadata": {},
   "outputs": [],
   "source": [
    "import org.apache.spark.ml.feature.OneHotEncoderEstimator"
   ]
  },
  {
   "cell_type": "code",
   "execution_count": 100,
   "metadata": {},
   "outputs": [
    {
     "name": "stdout",
     "output_type": "stream",
     "text": [
      "+---+--------------------+-------------+-------------+\n",
      "| id|            features|categoryIndex|  categoryVec|\n",
      "+---+--------------------+-------------+-------------+\n",
      "|  0|[-4.0,0.0,0.0,9.0...|          0.0|(3,[0],[1.0])|\n",
      "|  1|[18.0,18.0,1.0,13...|          0.0|(3,[0],[1.0])|\n",
      "|  2|[36.0,36.0,1.0,12...|          0.0|(3,[0],[1.0])|\n",
      "|  3|[36.0,36.0,1.0,15...|          0.0|(3,[0],[1.0])|\n",
      "|  4|[-7.0,0.0,0.0,8.0...|          0.0|(3,[0],[1.0])|\n",
      "|  5|[-4.0,0.0,0.0,22....|          0.0|(3,[0],[1.0])|\n",
      "|  6|[1.0,1.0,0.0,11.0...|          0.0|(3,[0],[1.0])|\n",
      "|  7|[12.0,12.0,0.0,17...|          0.0|(3,[0],[1.0])|\n",
      "|  8|[166.0,166.0,1.0,...|          1.0|(3,[1],[1.0])|\n",
      "|  9|[-2.0,0.0,0.0,22....|          0.0|(3,[0],[1.0])|\n",
      "+---+--------------------+-------------+-------------+\n",
      "only showing top 10 rows\n",
      "\n"
     ]
    }
   ],
   "source": [
    "from pyspark.ml.feature import OneHotEncoder, StringIndexer\n",
    "\n",
    "\n",
    "# Esta funcion agrega un id numerico a cada valor diferente de un valor categorico \n",
    "# es como establecer los niveles en R de una factor pero los niveles son numericos,\n",
    "# sus id. El indice se establece por orden de frecuencia (descendente), por lo que \n",
    "# el indice 0 corresponde a la variable que aparece con mas frecuencia\n",
    "string_indexer = StringIndexer(inputCol='rangoatrasohoras', outputCol=\"categoryIndex\")\n",
    "model = string_indexer.fit(df_assembler)\n",
    "indexed = model.transform(df_assembler)\n",
    "\n",
    "# Antes falta escalar variables\n",
    "# OneHotEncoder no tiene un fit ya que solo es un transformador\n",
    "encoder = OneHotEncoder(inputCol=\"categoryIndex\", outputCol=\"categoryVec\")\n",
    "encoded = encoder.transform(indexed )\n",
    "df_encoded = encoded[[\"id\", \"features\", \"categoryIndex\",\"categoryVec\"]]\n",
    "\n",
    "df_encoded.show(10)"
   ]
  },
  {
   "cell_type": "code",
   "execution_count": 119,
   "metadata": {},
   "outputs": [
    {
     "name": "stdout",
     "output_type": "stream",
     "text": [
      "+---+--------------------+-------------+-------------+\n",
      "| id|            features|categoryIndex|  categoryVec|\n",
      "+---+--------------------+-------------+-------------+\n",
      "|  1|[18.0,18.0,1.0,13...|          0.0|(3,[0],[1.0])|\n",
      "|  2|[36.0,36.0,1.0,12...|          0.0|(3,[0],[1.0])|\n",
      "+---+--------------------+-------------+-------------+\n",
      "only showing top 2 rows\n",
      "\n"
     ]
    }
   ],
   "source": [
    "# Podemos empezar con el modelado\n",
    "#from pyspark.sql import randomSplit\n",
    "\n",
    "# Separamos en train y test\n",
    "df_train, df_test = df_encoded.randomSplit([0.8,0.2], 123)\n",
    "df_test.show(2)"
   ]
  },
  {
   "cell_type": "code",
   "execution_count": 120,
   "metadata": {},
   "outputs": [
    {
     "name": "stdout",
     "output_type": "stream",
     "text": [
      "ChiSqSelector output with top 10 features selected\n",
      "+---+--------------------+-------------+-------------+\n",
      "| id|    selectedFeatures|categoryIndex|  categoryVec|\n",
      "+---+--------------------+-------------+-------------+\n",
      "|  0|[-4.0,0.0,0.0,9.0...|          0.0|(3,[0],[1.0])|\n",
      "|  4|[-7.0,0.0,0.0,8.0...|          0.0|(3,[0],[1.0])|\n",
      "+---+--------------------+-------------+-------------+\n",
      "only showing top 2 rows\n",
      "\n"
     ]
    }
   ],
   "source": [
    "\n",
    "from pyspark.ml.feature import ChiSqSelector\n",
    "from pyspark.ml.linalg import Vectors\n",
    "\n",
    "from pyspark.ml.evaluation import RegressionEvaluator\n",
    "from pyspark.ml.regression import LinearRegression\n",
    "from pyspark.ml.tuning import ParamGridBuilder, TrainValidationSplit\n",
    "\n",
    "\n",
    "selector = ChiSqSelector(numTopFeatures=10, featuresCol=\"features\",\n",
    "                         outputCol=\"selectedFeatures\", labelCol=\"categoryIndex\")\n",
    "\n",
    "selector_model = selector.fit(df_train)\n",
    "\n",
    "selector_result = selector_model.transform(df_train)\n",
    "print(\"ChiSqSelector output with top %d features selected\" % selector.getNumTopFeatures())\n",
    "\n",
    "df_train = selector_result[[\"id\", \"selectedFeatures\", \"categoryIndex\",\"categoryVec\"]]\n",
    "\n",
    "df_train.show(2)\n",
    "\n",
    "selector_result2 = selector_model.transform(df_test)\n",
    "\n",
    "df_test = selector_result2[[\"id\", \"selectedFeatures\", \"categoryIndex\",\"categoryVec\"]]\n"
   ]
  },
  {
   "cell_type": "code",
   "execution_count": 121,
   "metadata": {},
   "outputs": [
    {
     "name": "stdout",
     "output_type": "stream",
     "text": [
      "+---+--------------------+-------------+-------------+\n",
      "| id|     scaled_features|categoryIndex|  categoryVec|\n",
      "+---+--------------------+-------------+-------------+\n",
      "|  0|[-0.1967629108606...|          0.0|(3,[0],[1.0])|\n",
      "|  4|[-0.2663808227574...|          0.0|(3,[0],[1.0])|\n",
      "+---+--------------------+-------------+-------------+\n",
      "only showing top 2 rows\n",
      "\n"
     ]
    }
   ],
   "source": [
    "# Configuramos el estimator StandarScaler como lo necesitamos (por default\n",
    "# withMean esta en False porque hace que se regrese un vector dense...\n",
    "# hay que tener cuidado con eso cuando estemos manejandoo vectores sparse\n",
    "scaler = StandardScaler(inputCol=\"selectedFeatures\", outputCol=\"scaled_features\",\n",
    "                        withStd=True, withMean=True)\n",
    "# Creamos el modelo StandardScaler para los datos de entrada\n",
    "scaler_model = scaler.fit(df_train)\n",
    "\n",
    "# Transformamos los datos \n",
    "scaled_data = scaler_model.transform(df_train)\n",
    "\n",
    "df_train = scaled_data[[\"id\", \"scaled_features\", \"categoryIndex\",\"categoryVec\"]]\n",
    "df_train.show(2)\n",
    "\n",
    "scaled_data_test = scaler_model.transform(df_test)\n",
    "df_test = scaled_data_test[[\"id\", \"scaled_features\", \"categoryIndex\",\"categoryVec\"]]\n"
   ]
  },
  {
   "cell_type": "code",
   "execution_count": 130,
   "metadata": {},
   "outputs": [
    {
     "name": "stdout",
     "output_type": "stream",
     "text": [
      "Test Error = 0.0126459\n"
     ]
    }
   ],
   "source": [
    "from pyspark.ml.classification import LogisticRegression, OneVsRest\n",
    "from pyspark.ml.evaluation import MulticlassClassificationEvaluator\n",
    "\n",
    "# instantiate the base classifier.\n",
    "lr = LogisticRegression(maxIter=10, regParam=0.01, fitIntercept=True , \n",
    "                        labelCol =\"categoryIndex\", featuresCol = \"scaled_features\"  )\n",
    "\n",
    "# instantiate the One Vs Rest Classifier.\n",
    "ovr = OneVsRest(classifier=lr,  labelCol =\"categoryIndex\", featuresCol = \"scaled_features\" )\n",
    "\n",
    "# train the multiclass model.\n",
    "ovrModel = ovr.fit(df_train)\n",
    "\n",
    "# score the model on test data.\n",
    "predictions = ovrModel.transform(df_test)\n",
    "\n",
    "# obtain evaluator.\n",
    "evaluator = MulticlassClassificationEvaluator(metricName=\"accuracy\",labelCol =\"categoryIndex\")\n",
    "\n",
    "# compute the classification error on test data.\n",
    "accuracy = evaluator.evaluate(predictions )\n",
    "print(\"Test Error = %g\" % (1.0 - accuracy))"
   ]
  },
  {
   "cell_type": "markdown",
   "metadata": {},
   "source": [
    "## Util para obtener documentación y ver parámetros"
   ]
  },
  {
   "cell_type": "code",
   "execution_count": 131,
   "metadata": {},
   "outputs": [
    {
     "name": "stdout",
     "output_type": "stream",
     "text": [
      "LogisticRegression parameters:\n",
      "aggregationDepth: suggested depth for treeAggregate (>= 2). (default: 2)\n",
      "elasticNetParam: the ElasticNet mixing parameter, in range [0, 1]. For alpha = 0, the penalty is an L2 penalty. For alpha = 1, it is an L1 penalty. (default: 0.0)\n",
      "family: The name of family which is a description of the label distribution to be used in the model. Supported options: auto, binomial, multinomial (default: auto)\n",
      "featuresCol: features column name. (default: features, current: scaled_features)\n",
      "fitIntercept: whether to fit an intercept term. (default: True)\n",
      "labelCol: label column name. (default: label, current: categoryVec)\n",
      "lowerBoundsOnCoefficients: The lower bounds on coefficients if fitting under bound constrained optimization. The bound matrix must be compatible with the shape (1, number of features) for binomial regression, or (number of classes, number of features) for multinomial regression. (undefined)\n",
      "lowerBoundsOnIntercepts: The lower bounds on intercepts if fitting under bound constrained optimization. The bounds vector size must beequal with 1 for binomial regression, or the number oflasses for multinomial regression. (undefined)\n",
      "maxIter: max number of iterations (>= 0). (default: 100, current: 10)\n",
      "predictionCol: prediction column name. (default: prediction)\n",
      "probabilityCol: Column name for predicted class conditional probabilities. Note: Not all models output well-calibrated probability estimates! These probabilities should be treated as confidences, not precise probabilities. (default: probability)\n",
      "rawPredictionCol: raw prediction (a.k.a. confidence) column name. (default: rawPrediction)\n",
      "regParam: regularization parameter (>= 0). (default: 0.0, current: 0.01)\n",
      "standardization: whether to standardize the training features before fitting the model. (default: True)\n",
      "threshold: Threshold in binary classification prediction, in range [0, 1]. If threshold and thresholds are both set, they must match.e.g. if threshold is p, then thresholds must be equal to [1-p, p]. (default: 0.5)\n",
      "thresholds: Thresholds in multi-class classification to adjust the probability of predicting each class. Array must have length equal to the number of classes, with values > 0, excepting that at most one value may be 0. The class with largest value p/t is predicted, where p is the original probability of that class and t is the class's threshold. (undefined)\n",
      "tol: the convergence tolerance for iterative algorithms (>= 0). (default: 1e-06)\n",
      "upperBoundsOnCoefficients: The upper bounds on coefficients if fitting under bound constrained optimization. The bound matrix must be compatible with the shape (1, number of features) for binomial regression, or (number of classes, number of features) for multinomial regression. (undefined)\n",
      "upperBoundsOnIntercepts: The upper bounds on intercepts if fitting under bound constrained optimization. The bound vector size must be equal with 1 for binomial regression, or the number of classes for multinomial regression. (undefined)\n",
      "weightCol: weight column name. If this is not set or empty, we treat all instance weights as 1.0. (undefined)\n",
      "\n",
      "LogisticRegression parameters:\n",
      "labelCol: label column name. (default: label, current: categoryIndex)\n",
      "metricName: metric name in evaluation (f1|weightedPrecision|weightedRecall|accuracy) (default: f1, current: accuracy)\n",
      "predictionCol: prediction column name. (default: prediction)\n",
      "\n"
     ]
    }
   ],
   "source": [
    "from pyspark.ml.linalg import Vectors\n",
    "from pyspark.ml.classification import LogisticRegression\n",
    "from pyspark.ml.classification import LogisticRegression, OneVsRest\n",
    "\n",
    "lr = LogisticRegression(maxIter=10, regParam=0.01,\n",
    "                       labelCol =\"categoryVec\", featuresCol = \"scaled_features\"  )\n",
    "\n",
    "# instantiate the One Vs Rest Classifier.\n",
    "ovr = OneVsRest(classifier=lr)\n",
    "\n",
    "print(\"LogisticRegression parameters:\\n\" + lr.explainParams() + \"\\n\")\n",
    "print(\"LogisticRegression parameters:\\n\" +evaluator.explainParams() + \"\\n\")\n"
   ]
  },
  {
   "cell_type": "code",
   "execution_count": null,
   "metadata": {},
   "outputs": [],
   "source": []
  }
 ],
 "metadata": {
  "kernelspec": {
   "display_name": "Python 3",
   "language": "python",
   "name": "python3"
  },
  "language_info": {
   "codemirror_mode": {
    "name": "ipython",
    "version": 3
   },
   "file_extension": ".py",
   "mimetype": "text/x-python",
   "name": "python",
   "nbconvert_exporter": "python",
   "pygments_lexer": "ipython3",
   "version": "3.7.6"
  }
 },
 "nbformat": 4,
 "nbformat_minor": 4
}
