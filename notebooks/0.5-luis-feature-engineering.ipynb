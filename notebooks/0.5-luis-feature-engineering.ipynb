{
 "cells": [
  {
   "cell_type": "code",
   "execution_count": 1,
   "metadata": {},
   "outputs": [
    {
     "data": {
      "text/plain": [
       "0       0.0\n",
       "1       0.0\n",
       "2       0.0\n",
       "3       0.0\n",
       "4       0.0\n",
       "       ... \n",
       "9995    0.0\n",
       "9996    0.0\n",
       "9997    0.0\n",
       "9998    0.0\n",
       "9999    0.0\n",
       "Name: Cancelled, Length: 10000, dtype: float64"
      ]
     },
     "execution_count": 1,
     "metadata": {},
     "output_type": "execute_result"
    }
   ],
   "source": [
    "import pandas as pd\n",
    "direccion = \"./../src/data/raw/prueba.csv\"\n",
    "df = pd.read_csv(direccion, nrows = 10000)\n",
    "df.head()\n",
    "\n",
    "df.Cancelled"
   ]
  },
  {
   "cell_type": "code",
   "execution_count": 2,
   "metadata": {},
   "outputs": [],
   "source": [
    "direccion = \"./../src/data/raw/prueba.csv\"\n",
    "\n",
    "from pyspark.sql import SparkSession\n",
    "\n",
    "spark = SparkSession \\\n",
    "    .builder \\\n",
    "    .appName(\"Python Spark SQL basic example\") \\\n",
    "    .config(\"spark.some.config.option\", \"some-value\") \\\n",
    "    .getOrCreate()\n",
    "\n",
    "df = spark.read.csv(direccion, header=\"true\", inferSchema=\"true\").limit(10000)"
   ]
  },
  {
   "cell_type": "code",
   "execution_count": 3,
   "metadata": {},
   "outputs": [],
   "source": [
    "def clean(df):\n",
    "    #Pasar a minusculas los nombres de columnas\n",
    "    for col in df.columns:\n",
    "        df = df.withColumnRenamed(col, col.lower())\n",
    "\n",
    "    #Seleccionar columnas no vacias \n",
    "\n",
    "    base = df.select(df.year,df.quarter, df.month, df.dayofmonth, df.dayofweek, df.flightdate, df.reporting_airline, df.dot_id_reporting_airline, df.iata_code_reporting_airline, df.tail_number, df.flight_number_reporting_airline, df.originairportid, df.originairportseqid, df.origincitymarketid, df.origin, df.origincityname, df.originstate, df.originstatefips, df.originstatename, df.originwac, df.destairportid, df.destairportseqid, df.destcitymarketid, df.dest, df.destcityname, df.deststate, df.deststatefips, df.deststatename, df.destwac, df.crsdeptime, df.deptime, df.depdelay, df.depdelayminutes, df.depdel15, df.departuredelaygroups, df.deptimeblk, df.taxiout, df.wheelsoff, df.wheelson, df.taxiin, df.crsarrtime, df.arrtime, df.arrdelay, df.arrdelayminutes, df.arrdel15, df.arrivaldelaygroups, df.arrtimeblk, df.cancelled, df.diverted, df.crselapsedtime, df.actualelapsedtime, df.airtime, df.flights, df.distance, df.distancegroup, df.divairportlandings )\n",
    "\n",
    "    #agregar columna con clasificación de tiempo en horas de atraso del vuelo 0-1.5, 1.5-3.5,3.5-, cancelled\n",
    "\n",
    "    from pyspark.sql import functions as f\n",
    "    base = base.withColumn('rangoatrasohoras', f.when(f.col('cancelled') == 1, \"cancelled\").when(f.col('depdelayminutes') < 90, \"0-1.5\").when((f.col('depdelayminutes') > 90) & (f.col('depdelayminutes')<210), \"1.5-3.5\").otherwise(\"3.5-\"))\n",
    "\n",
    "    from pyspark.sql.functions import udf\n",
    "    from pyspark.sql.types import StringType\n",
    "    from pyspark.sql.functions import col, lower, regexp_replace, split\n",
    "\n",
    "    #Función limpieza\n",
    "    def clean_text(c):\n",
    "        c = lower(c)\n",
    "        c = regexp_replace(c, \" \", \"_\")\n",
    "        c = f.split(c, '\\,')[0]\n",
    "        return c\n",
    "\n",
    "\n",
    "     # Aplicación de la función limpieza\n",
    "    base = base.withColumn(\"origincityname\", clean_text(col(\"origincityname\")))\n",
    "    base = base.withColumn(\"destcityname\", clean_text(col(\"destcityname\")))\n",
    "    return base"
   ]
  },
  {
   "cell_type": "code",
   "execution_count": 4,
   "metadata": {},
   "outputs": [],
   "source": [
    "df_clean = clean(df)"
   ]
  },
  {
   "cell_type": "code",
   "execution_count": 13,
   "metadata": {},
   "outputs": [
    {
     "data": {
      "text/plain": [
       "['year',\n",
       " 'quarter',\n",
       " 'month',\n",
       " 'dayofmonth',\n",
       " 'dayofweek',\n",
       " 'dot_id_reporting_airline',\n",
       " 'flight_number_reporting_airline',\n",
       " 'originairportid',\n",
       " 'originairportseqid',\n",
       " 'origincitymarketid',\n",
       " 'originstatefips',\n",
       " 'originwac',\n",
       " 'destairportid',\n",
       " 'destairportseqid',\n",
       " 'destcitymarketid',\n",
       " 'deststatefips',\n",
       " 'destwac',\n",
       " 'crsdeptime',\n",
       " 'deptime',\n",
       " 'departuredelaygroups',\n",
       " 'wheelsoff',\n",
       " 'wheelson',\n",
       " 'crsarrtime',\n",
       " 'arrtime',\n",
       " 'arrivaldelaygroups',\n",
       " 'distancegroup',\n",
       " 'divairportlandings',\n",
       " 'depdelay',\n",
       " 'depdelayminutes',\n",
       " 'depdel15',\n",
       " 'taxiout',\n",
       " 'taxiin',\n",
       " 'arrdelay',\n",
       " 'arrdelayminutes',\n",
       " 'arrdel15',\n",
       " 'cancelled',\n",
       " 'diverted',\n",
       " 'crselapsedtime',\n",
       " 'actualelapsedtime',\n",
       " 'airtime',\n",
       " 'flights',\n",
       " 'distance',\n",
       " 'rangoatrasohoras']"
      ]
     },
     "execution_count": 13,
     "metadata": {},
     "output_type": "execute_result"
    }
   ],
   "source": [
    "df_num.columns"
   ]
  },
  {
   "cell_type": "code",
   "execution_count": 5,
   "metadata": {},
   "outputs": [
    {
     "data": {
      "text/plain": [
       "['depdelay_imputed',\n",
       " 'depdelayminutes_imputed',\n",
       " 'depdel15_imputed',\n",
       " 'taxiout_imputed',\n",
       " 'taxiin_imputed',\n",
       " 'arrdelay_imputed',\n",
       " 'arrdelayminutes_imputed',\n",
       " 'arrdel15_imputed',\n",
       " 'cancelled_imputed',\n",
       " 'diverted_imputed',\n",
       " 'crselapsedtime_imputed',\n",
       " 'actualelapsedtime_imputed',\n",
       " 'airtime_imputed',\n",
       " 'flights_imputed',\n",
       " 'distance_imputed',\n",
       " 'year',\n",
       " 'quarter',\n",
       " 'month',\n",
       " 'dayofmonth',\n",
       " 'dayofweek',\n",
       " 'dot_id_reporting_airline',\n",
       " 'flight_number_reporting_airline',\n",
       " 'originairportid',\n",
       " 'originairportseqid',\n",
       " 'origincitymarketid',\n",
       " 'originstatefips',\n",
       " 'originwac',\n",
       " 'destairportid',\n",
       " 'destairportseqid',\n",
       " 'destcitymarketid',\n",
       " 'deststatefips',\n",
       " 'destwac',\n",
       " 'crsdeptime',\n",
       " 'deptime',\n",
       " 'departuredelaygroups',\n",
       " 'wheelsoff',\n",
       " 'wheelson',\n",
       " 'crsarrtime',\n",
       " 'arrtime',\n",
       " 'arrivaldelaygroups',\n",
       " 'distancegroup',\n",
       " 'divairportlandings',\n",
       " 'rangoatrasohoras']"
      ]
     },
     "execution_count": 5,
     "metadata": {},
     "output_type": "execute_result"
    }
   ],
   "source": [
    "type(df_clean)\n",
    "from pyspark.sql.types import IntegerType, DoubleType\n",
    "\n",
    "double_cols = [f.name for f in df_clean.schema.fields if isinstance(f.dataType, DoubleType)]\n",
    "int_cols = [f.name for f in df_clean.schema.fields if isinstance(f.dataType, IntegerType)]\n",
    "num_cols = int_cols + double_cols\n",
    "\n",
    "cols = num_cols + ['rangoatrasohoras']\n",
    "\n",
    "df_num = df_clean[cols]\n",
    "\n",
    "# MISSING VALUES\n",
    "# POR AHORA ZEROS (MANEJAR ESTO DESPUES)\n",
    "#df_na = df_num.fill(0)\n",
    "\n",
    "numericals_imputed = [var + \"_imputed\" for var in double_cols]\n",
    "\n",
    "from pyspark.ml.feature import Imputer\n",
    "\n",
    "imputer = Imputer(inputCols = double_cols, outputCols = numericals_imputed)\n",
    "df_impute = imputer.setStrategy(\"median\").fit(df_num).transform(df_num)\n",
    "new_vars = numericals_imputed + int_cols + ['rangoatrasohoras']\n",
    "df_impute = df_impute[new_vars]\n",
    "\n",
    "df_impute = df_impute.fillna(0, subset=int_cols)\n",
    "\n",
    "df_impute.columns\n"
   ]
  },
  {
   "cell_type": "code",
   "execution_count": 6,
   "metadata": {},
   "outputs": [],
   "source": [
    "from pyspark.sql.types import LongType\n",
    "from pyspark.sql import Row\n",
    "def zipindexdf(df):\n",
    "    schema_new = df.schema.add(\"index\", LongType(), False)\n",
    "    return df.rdd.zipWithIndex().map(lambda l: list(l[0]) + [l[1]]).toDF(schema_new)\n",
    "\n",
    "unas = df_impute.select(df_impute.year,df_impute.quarter, df_impute.month, df_impute.dayofmonth, df_impute.dayofweek, df_impute.crsdeptime, df_impute.dot_id_reporting_airline, df_impute.origincitymarketid, df_impute.originairportseqid, df_impute.originwac, df_impute.destcitymarketid, df_impute.destairportseqid, df_impute.destwac, df_impute.flights_imputed, df_impute.rangoatrasohoras, df_impute.depdelayminutes_imputed, df_impute.arrdelayminutes_imputed, df_impute.actualelapsedtime_imputed, df_impute.airtime_imputed, df_impute.distance_imputed)\n",
    "otras = df_clean.select(df_clean.tail_number,df_clean.deststate, df_clean.originstate)\n",
    "\n",
    "df1_index = zipindexdf(unas)\n",
    "\n",
    "df2_index = zipindexdf(otras)\n",
    "\n",
    "df_id = df1_index.join(df2_index, \"index\", \"inner\")"
   ]
  },
  {
   "cell_type": "code",
   "execution_count": 87,
   "metadata": {},
   "outputs": [
    {
     "name": "stdout",
     "output_type": "stream",
     "text": [
      "+---------+---------------------------+\n",
      "|originwac|sum_depdelayminutes_imputed|\n",
      "+---------+---------------------------+\n",
      "|       91|                    16234.0|\n",
      "|       41|                    11008.0|\n",
      "|       43|                     6045.0|\n",
      "|       82|                     4811.0|\n",
      "|       74|                     4685.0|\n",
      "+---------+---------------------------+\n",
      "only showing top 5 rows\n",
      "\n"
     ]
    }
   ],
   "source": [
    "# Sum by Agg\n",
    "import pyspark.sql.functions as func\n",
    "from pyspark.sql.functions import desc, col\n",
    "group_data = df_id.groupBy(\"originwac\")\n",
    "orwac_delay = group_data.agg(func.sum(\"depdelayminutes_imputed\").alias(\"sum_depdelayminutes_imputed\")).sort(desc(\"sum_depdelayminutes_imputed\"))\n",
    "orwac_delay.show(5)\n",
    "#wac_delay.orderBy(wac_delay['sum_depdelayminutes_imputed']).desc().show()"
   ]
  },
  {
   "cell_type": "code",
   "execution_count": 100,
   "metadata": {},
   "outputs": [
    {
     "name": "stdout",
     "output_type": "stream",
     "text": [
      "+-------+---------------------------+\n",
      "|destwac|sum_arrdelayminutes_imputed|\n",
      "+-------+---------------------------+\n",
      "|     91|                    14154.0|\n",
      "|     41|                    11422.0|\n",
      "|     43|                     8824.0|\n",
      "|     82|                     5780.0|\n",
      "|     74|                     4461.0|\n",
      "+-------+---------------------------+\n",
      "only showing top 5 rows\n",
      "\n"
     ]
    }
   ],
   "source": [
    "group_data = df_id.groupBy(\"destwac\")\n",
    "destwac_delay = group_data.agg(func.sum(\"arrdelayminutes_imputed\").alias(\"sum_arrdelayminutes_imputed\")).sort(desc(\"sum_arrdelayminutes_imputed\"))\n",
    "destwac_delay.show(5)"
   ]
  },
  {
   "cell_type": "code",
   "execution_count": 95,
   "metadata": {},
   "outputs": [
    {
     "name": "stdout",
     "output_type": "stream",
     "text": [
      "+------------------+---------------------------+\n",
      "|originairportseqid|sum_depdelayminutes_imputed|\n",
      "+------------------+---------------------------+\n",
      "|           1393007|                    10395.0|\n",
      "|           1477104|                     6996.0|\n",
      "|           1129202|                     3691.0|\n",
      "|           1143302|                     3414.0|\n",
      "|           1289208|                     2603.0|\n",
      "+------------------+---------------------------+\n",
      "only showing top 5 rows\n",
      "\n"
     ]
    }
   ],
   "source": [
    "group_data = df_id.groupBy(\"originairportseqid\")\n",
    "orcity_delay = group_data.agg(func.sum(\"depdelayminutes_imputed\").alias(\"sum_depdelayminutes_imputed\")).sort(desc(\"sum_depdelayminutes_imputed\"))\n",
    "orcity_delay.show(5)"
   ]
  },
  {
   "cell_type": "code",
   "execution_count": 99,
   "metadata": {},
   "outputs": [
    {
     "name": "stdout",
     "output_type": "stream",
     "text": [
      "+----------------+---------------------------+\n",
      "|destairportseqid|sum_arrdelayminutes_imputed|\n",
      "+----------------+---------------------------+\n",
      "|         1393007|                    11055.0|\n",
      "|         1477104|                     4906.0|\n",
      "|         1143302|                     4629.0|\n",
      "|         1129202|                     4358.0|\n",
      "|         1348702|                     2860.0|\n",
      "+----------------+---------------------------+\n",
      "only showing top 5 rows\n",
      "\n"
     ]
    }
   ],
   "source": [
    "group_data = df_id.groupBy(\"destairportseqid\")\n",
    "descity_delay = group_data.agg(func.sum(\"arrdelayminutes_imputed\").alias(\"sum_arrdelayminutes_imputed\")).sort(desc(\"sum_arrdelayminutes_imputed\"))\n",
    "descity_delay.show(5)"
   ]
  },
  {
   "cell_type": "code",
   "execution_count": 96,
   "metadata": {},
   "outputs": [
    {
     "name": "stdout",
     "output_type": "stream",
     "text": [
      "+------------------+---------------------------+\n",
      "|originairportseqid|sum_depdelayminutes_imputed|\n",
      "+------------------+---------------------------+\n",
      "|           1393007|                    10395.0|\n",
      "|           1477104|                     6996.0|\n",
      "|           1129202|                     3691.0|\n",
      "|           1143302|                     3414.0|\n",
      "|           1289208|                     2603.0|\n",
      "+------------------+---------------------------+\n",
      "only showing top 5 rows\n",
      "\n"
     ]
    }
   ],
   "source": [
    "group_data = df_id.groupBy(\"originairportseqid\")\n",
    "orairp_delay = group_data.agg(func.sum(\"depdelayminutes_imputed\").alias(\"sum_depdelayminutes_imputed\")).sort(desc(\"sum_depdelayminutes_imputed\"))\n",
    "orairp_delay.show(5)"
   ]
  },
  {
   "cell_type": "code",
   "execution_count": 101,
   "metadata": {},
   "outputs": [
    {
     "name": "stdout",
     "output_type": "stream",
     "text": [
      "+----------------+---------------------------+\n",
      "|destairportseqid|sum_arrdelayminutes_imputed|\n",
      "+----------------+---------------------------+\n",
      "|         1393007|                    11055.0|\n",
      "|         1477104|                     4906.0|\n",
      "|         1143302|                     4629.0|\n",
      "|         1129202|                     4358.0|\n",
      "|         1348702|                     2860.0|\n",
      "+----------------+---------------------------+\n",
      "only showing top 5 rows\n",
      "\n"
     ]
    }
   ],
   "source": [
    "group_data = df_id.groupBy(\"destairportseqid\")\n",
    "desairp_delay = group_data.agg(func.sum(\"arrdelayminutes_imputed\").alias(\"sum_arrdelayminutes_imputed\")).sort(desc(\"sum_arrdelayminutes_imputed\"))\n",
    "desairp_delay.show(5)"
   ]
  },
  {
   "cell_type": "code",
   "execution_count": 104,
   "metadata": {
    "scrolled": true
   },
   "outputs": [
    {
     "name": "stdout",
     "output_type": "stream",
     "text": [
      "+---------+---------------------------+\n",
      "|dayofweek|sum_depdelayminutes_imputed|\n",
      "+---------+---------------------------+\n",
      "|        5|                    26093.0|\n",
      "|        7|                    19108.0|\n",
      "|        6|                    16547.0|\n",
      "|        4|                    15012.0|\n",
      "|        1|                     9740.0|\n",
      "+---------+---------------------------+\n",
      "only showing top 5 rows\n",
      "\n"
     ]
    }
   ],
   "source": [
    "group_data = df_id.groupBy(\"dayofweek\")\n",
    "orairp_delay = group_data.agg(func.sum(\"depdelayminutes_imputed\").alias(\"sum_depdelayminutes_imputed\")).sort(desc(\"sum_depdelayminutes_imputed\"))\n",
    "orairp_delay.show(5)"
   ]
  },
  {
   "cell_type": "code",
   "execution_count": 105,
   "metadata": {},
   "outputs": [
    {
     "name": "stdout",
     "output_type": "stream",
     "text": [
      "+---------+---------------------------+\n",
      "|dayofweek|sum_arrdelayminutes_imputed|\n",
      "+---------+---------------------------+\n",
      "|        5|                    24754.0|\n",
      "|        7|                    17544.0|\n",
      "|        6|                    15328.0|\n",
      "|        4|                    14332.0|\n",
      "|        1|                     8821.0|\n",
      "+---------+---------------------------+\n",
      "only showing top 5 rows\n",
      "\n"
     ]
    }
   ],
   "source": [
    "group_data = df_id.groupBy(\"dayofweek\")\n",
    "desairp_delay = group_data.agg(func.sum(\"arrdelayminutes_imputed\").alias(\"sum_arrdelayminutes_imputed\")).sort(desc(\"sum_arrdelayminutes_imputed\"))\n",
    "desairp_delay.show(5)"
   ]
  },
  {
   "cell_type": "code",
   "execution_count": 106,
   "metadata": {},
   "outputs": [
    {
     "name": "stdout",
     "output_type": "stream",
     "text": [
      "+----------+---------------------------+\n",
      "|dayofmonth|sum_depdelayminutes_imputed|\n",
      "+----------+---------------------------+\n",
      "|         1|                    21497.0|\n",
      "|         3|                    18636.0|\n",
      "|         2|                    15333.0|\n",
      "|        14|                    14644.0|\n",
      "|         4|                     8719.0|\n",
      "+----------+---------------------------+\n",
      "only showing top 5 rows\n",
      "\n"
     ]
    }
   ],
   "source": [
    "group_data = df_id.groupBy(\"dayofmonth\")\n",
    "orairp_delay = group_data.agg(func.sum(\"depdelayminutes_imputed\").alias(\"sum_depdelayminutes_imputed\")).sort(desc(\"sum_depdelayminutes_imputed\"))\n",
    "orairp_delay.show(5)"
   ]
  },
  {
   "cell_type": "code",
   "execution_count": 110,
   "metadata": {},
   "outputs": [
    {
     "name": "stdout",
     "output_type": "stream",
     "text": [
      "+----------+---------------------------+\n",
      "|dayofmonth|sum_arrdelayminutes_imputed|\n",
      "+----------+---------------------------+\n",
      "|         1|                    19799.0|\n",
      "|         3|                    17151.0|\n",
      "|         2|                    14130.0|\n",
      "|        14|                    13990.0|\n",
      "|         4|                     7828.0|\n",
      "+----------+---------------------------+\n",
      "only showing top 5 rows\n",
      "\n"
     ]
    }
   ],
   "source": [
    "group_data = df_id.groupBy(\"dayofmonth\")\n",
    "desairp_delay = group_data.agg(func.sum(\"arrdelayminutes_imputed\").alias(\"sum_arrdelayminutes_imputed\")).sort(desc(\"sum_arrdelayminutes_imputed\"))\n",
    "desairp_delay.show(5)"
   ]
  },
  {
   "cell_type": "code",
   "execution_count": 111,
   "metadata": {},
   "outputs": [
    {
     "name": "stdout",
     "output_type": "stream",
     "text": [
      "+-----------+---------------------------+\n",
      "|originstate|sum_arrdelayminutes_imputed|\n",
      "+-----------+---------------------------+\n",
      "|         CA|                    15013.0|\n",
      "|         IL|                    10257.0|\n",
      "|         MI|                     5068.0|\n",
      "|         TX|                     4774.0|\n",
      "|         CO|                     4096.0|\n",
      "+-----------+---------------------------+\n",
      "only showing top 5 rows\n",
      "\n"
     ]
    }
   ],
   "source": [
    "group_data = df_id.groupBy(\"originstate\")\n",
    "desairp_delay = group_data.agg(func.sum(\"arrdelayminutes_imputed\").alias(\"sum_arrdelayminutes_imputed\")).sort(desc(\"sum_arrdelayminutes_imputed\"))\n",
    "desairp_delay.show(5)"
   ]
  },
  {
   "cell_type": "code",
   "execution_count": 112,
   "metadata": {},
   "outputs": [
    {
     "name": "stdout",
     "output_type": "stream",
     "text": [
      "+---------+---------------------------+\n",
      "|deststate|sum_arrdelayminutes_imputed|\n",
      "+---------+---------------------------+\n",
      "|       CA|                    14154.0|\n",
      "|       IL|                    11422.0|\n",
      "|       MI|                     8824.0|\n",
      "|       CO|                     5780.0|\n",
      "|       TX|                     4461.0|\n",
      "+---------+---------------------------+\n",
      "only showing top 5 rows\n",
      "\n"
     ]
    }
   ],
   "source": [
    "group_data = df_id.groupBy(\"deststate\")\n",
    "desairp_delay = group_data.agg(func.sum(\"arrdelayminutes_imputed\").alias(\"sum_arrdelayminutes_imputed\")).sort(desc(\"sum_arrdelayminutes_imputed\"))\n",
    "desairp_delay.show(5)"
   ]
  },
  {
   "cell_type": "code",
   "execution_count": 115,
   "metadata": {},
   "outputs": [
    {
     "name": "stdout",
     "output_type": "stream",
     "text": [
      "+------------------------+---------------------------+\n",
      "|dot_id_reporting_airline|sum_arrdelayminutes_imputed|\n",
      "+------------------------+---------------------------+\n",
      "|                   20304|                    76681.0|\n",
      "|                   20397|                     6381.0|\n",
      "+------------------------+---------------------------+\n",
      "\n"
     ]
    }
   ],
   "source": [
    "group_data = df_id.groupBy(\"dot_id_reporting_airline\")\n",
    "desairp_delay = group_data.agg(func.sum(\"arrdelayminutes_imputed\").alias(\"sum_arrdelayminutes_imputed\")).sort(desc(\"sum_arrdelayminutes_imputed\"))\n",
    "desairp_delay.show(5)"
   ]
  },
  {
   "cell_type": "code",
   "execution_count": 163,
   "metadata": {},
   "outputs": [
    {
     "data": {
      "text/plain": [
       "19"
      ]
     },
     "execution_count": 163,
     "metadata": {},
     "output_type": "execute_result"
    }
   ],
   "source": [
    "df_id = df_id.withColumn('dephour',f.when(f.length('crsdeptime')==3,df_id['crsdeptime'].substr(0,1)).otherwise(df_id['crsdeptime'].substr(0,2)) )\n",
    "df_id.select('dephour').distinct().count()"
   ]
  },
  {
   "cell_type": "code",
   "execution_count": 167,
   "metadata": {},
   "outputs": [
    {
     "name": "stdout",
     "output_type": "stream",
     "text": [
      "+-------+---------------------------+\n",
      "|dephour|sum_depdelayminutes_imputed|\n",
      "+-------+---------------------------+\n",
      "|     18|                     8263.0|\n",
      "|      6|                     6736.0|\n",
      "|     12|                     6541.0|\n",
      "|      8|                     6391.0|\n",
      "|     10|                     5813.0|\n",
      "|     11|                     5733.0|\n",
      "|     15|                     5517.0|\n",
      "|     16|                     5248.0|\n",
      "|     14|                     5168.0|\n",
      "|     17|                     5125.0|\n",
      "+-------+---------------------------+\n",
      "only showing top 10 rows\n",
      "\n"
     ]
    }
   ],
   "source": [
    "from pyspark.sql import functions as f\n",
    "group_data = df_id.groupBy(\"dephour\")\n",
    "orairp_delay = group_data.agg(f.sum(\"depdelayminutes_imputed\").alias(\"sum_depdelayminutes_imputed\")).sort(desc(\"sum_depdelayminutes_imputed\"))\n",
    "orairp_delay.show(10)"
   ]
  },
  {
   "cell_type": "code",
   "execution_count": 66,
   "metadata": {},
   "outputs": [
    {
     "name": "stdout",
     "output_type": "stream",
     "text": [
      "('Filas:', 10000, 'Columnas:', 24)\n"
     ]
    },
    {
     "data": {
      "text/plain": [
       "['index',\n",
       " 'year',\n",
       " 'quarter',\n",
       " 'month',\n",
       " 'dayofmonth',\n",
       " 'dayofweek',\n",
       " 'crsdeptime',\n",
       " 'dot_id_reporting_airline',\n",
       " 'origincitymarketid',\n",
       " 'originairportseqid',\n",
       " 'originwac',\n",
       " 'destcitymarketid',\n",
       " 'destairportseqid',\n",
       " 'destwac',\n",
       " 'flights_imputed',\n",
       " 'rangoatrasohoras',\n",
       " 'depdelayminutes_imputed',\n",
       " 'arrdelayminutes_imputed',\n",
       " 'actualelapsedtime_imputed',\n",
       " 'airtime_imputed',\n",
       " 'distance_imputed',\n",
       " 'tail_number',\n",
       " 'deststate',\n",
       " 'originstate']"
      ]
     },
     "execution_count": 66,
     "metadata": {},
     "output_type": "execute_result"
    }
   ],
   "source": [
    "df_id.collect()[0:1][:]\n",
    "print(('Filas:',df_id.count(),'Columnas:',len(df_id.columns)))\n",
    "df_id.columns"
   ]
  },
  {
   "cell_type": "code",
   "execution_count": 8,
   "metadata": {},
   "outputs": [],
   "source": [
    "def crear_features(base):\n",
    "    from pyspark.sql import functions as f\n",
    "    base = base.withColumn('findesemana', f.when(f.col('dayofweek') == 5, 1).when(f.col('dayofweek') == 6, 1).when(f.col('dayofweek') == 7, 1).otherwise(0))\n",
    "    base = base.withColumn('quincena', f.when(f.col('dayofmonth') == 15, 1).when(f.col('dayofmonth') == 14, 1).when(f.col('dayofmonth') == 16, 1).when(f.col('dayofmonth') == 29, 1).when(f.col('dayofmonth') == 30, 1).when(f.col('dayofmonth') == 31, 1).when(f.col('dayofmonth') == 1, 1).when(f.col('dayofmonth') == 2, 1).when(f.col('dayofmonth') == 3, 1).otherwise(0))\n",
    "    base = base.withColumn('dephour',f.when(f.length('crsdeptime')==3,f.col('crsdeptime').substr(0,1).cast(\"float\")).otherwise(f.col('crsdeptime').substr(0,2).cast(\"float\")) )\n",
    "    base = base.withColumn('seishoras', f.when(f.col('dephour') == 6, 1).when(f.col('dephour') == 12, 1).when(f.col('dephour') == 18, 1).when(f.col('dephour') == 0, 1).otherwise(0))\n",
    "    return(base)"
   ]
  },
  {
   "cell_type": "code",
   "execution_count": 14,
   "metadata": {},
   "outputs": [],
   "source": [
    "df_util = crear_features(df_num)\n",
    "df_util = df_util.drop('tail_number')\n",
    "df_util = df_util.drop('originstate')\n",
    "df_util = df_util.drop('deststate')\n",
    "df_util = df_util.drop('dayofweek')\n",
    "df_util = df_util.drop('dayofmonth')\n",
    "df_util = df_util.drop('dephour')"
   ]
  },
  {
   "cell_type": "code",
   "execution_count": 15,
   "metadata": {},
   "outputs": [
    {
     "data": {
      "text/plain": [
       "Row(year=2019, quarter=4, month=11, dot_id_reporting_airline=20397, flight_number_reporting_airline=5213, originairportid=13795, originairportseqid=1379502, origincitymarketid=33795, originstatefips=37, originwac=36, destairportid=11057, destairportseqid=1105703, destcitymarketid=31057, deststatefips=37, destwac=36, crsdeptime=1036, deptime=1032, departuredelaygroups=-1, wheelsoff=1041, wheelson=1119, crsarrtime=1201, arrtime=1127, arrivaldelaygroups=-2, distancegroup=1, divairportlandings=0, depdelay=-4.0, depdelayminutes=0.0, depdel15=0.0, taxiout=9.0, taxiin=8.0, arrdelay=-34.0, arrdelayminutes=0.0, arrdel15=0.0, cancelled=0.0, diverted=0.0, crselapsedtime=85.0, actualelapsedtime=55.0, airtime=38.0, flights=1.0, distance=191.0, rangoatrasohoras='0-1.5', findesemana=1, quincena=1, seishoras=0)"
      ]
     },
     "execution_count": 15,
     "metadata": {},
     "output_type": "execute_result"
    }
   ],
   "source": [
    "df_util.head()"
   ]
  },
  {
   "cell_type": "code",
   "execution_count": 206,
   "metadata": {},
   "outputs": [
    {
     "name": "stdout",
     "output_type": "stream",
     "text": [
      "+----------------+-----------------------+----------------+---------------+--------------+----------------+-----------------------+----------------+-----------------+----------------+----------------------+-------------------------+---------------+---------------+----------------+----+-------+-----+------------------------+-------------------------------+---------------+------------------+------------------+---------------+---------+-------------+----------------+----------------+-------------+-------+----------+-------+--------------------+---------+--------+----------+-------+------------------+-------------+------------------+----------------+-----------+--------+---------+-----+--------------------+\n",
      "|depdelay_imputed|depdelayminutes_imputed|depdel15_imputed|taxiout_imputed|taxiin_imputed|arrdelay_imputed|arrdelayminutes_imputed|arrdel15_imputed|cancelled_imputed|diverted_imputed|crselapsedtime_imputed|actualelapsedtime_imputed|airtime_imputed|flights_imputed|distance_imputed|year|quarter|month|dot_id_reporting_airline|flight_number_reporting_airline|originairportid|originairportseqid|origincitymarketid|originstatefips|originwac|destairportid|destairportseqid|destcitymarketid|deststatefips|destwac|crsdeptime|deptime|departuredelaygroups|wheelsoff|wheelson|crsarrtime|arrtime|arrivaldelaygroups|distancegroup|divairportlandings|rangoatrasohoras|findesemana|quincena|seishoras|index|            features|\n",
      "+----------------+-----------------------+----------------+---------------+--------------+----------------+-----------------------+----------------+-----------------+----------------+----------------------+-------------------------+---------------+---------------+----------------+----+-------+-----+------------------------+-------------------------------+---------------+------------------+------------------+---------------+---------+-------------+----------------+----------------+-------------+-------+----------+-------+--------------------+---------+--------+----------+-------+------------------+-------------+------------------+----------------+-----------+--------+---------+-----+--------------------+\n",
      "|            -4.0|                    0.0|             0.0|            9.0|           8.0|           -34.0|                    0.0|             0.0|              0.0|             0.0|                  85.0|                     55.0|           38.0|            1.0|           191.0|2019|      4|   11|                   20397|                           5213|          13795|           1379502|             33795|             37|       36|        11057|         1105703|           31057|           37|     36|      1036|   1032|                  -1|     1041|    1119|      1201|   1127|                -2|            1|                 0|           0-1.5|          1|       1|        0|    0|[-4.0,0.0,0.0,9.0...|\n",
      "|            18.0|                   18.0|             1.0|           13.0|           7.0|            -7.0|                    0.0|             0.0|              0.0|             0.0|                  85.0|                     60.0|           40.0|            1.0|           191.0|2019|      4|   11|                   20397|                           5213|          13795|           1379502|             33795|             37|       36|        11057|         1105703|           31057|           37|     36|      1036|   1054|                   1|     1107|    1147|      1201|   1154|                -1|            1|                 0|           0-1.5|          1|       0|        0|    1|[18.0,18.0,1.0,13...|\n",
      "+----------------+-----------------------+----------------+---------------+--------------+----------------+-----------------------+----------------+-----------------+----------------+----------------------+-------------------------+---------------+---------------+----------------+----+-------+-----+------------------------+-------------------------------+---------------+------------------+------------------+---------------+---------+-------------+----------------+----------------+-------------+-------+----------+-------+--------------------+---------+--------+----------+-------+------------------+-------------+------------------+----------------+-----------+--------+---------+-----+--------------------+\n",
      "only showing top 2 rows\n",
      "\n"
     ]
    }
   ],
   "source": [
    "from pyspark.sql.functions import monotonically_increasing_id\n",
    "\n",
    "# This will return a new DF with all the columns + id\n",
    "df_util  = df_util.withColumn(\"index\",monotonically_increasing_id())\n",
    "\n",
    "nuevas_vars =  [x for x in df_util.columns if x not in ['rangoatrasohoras']]\n",
    "\n",
    "from pyspark.ml.feature import VectorAssembler\n",
    "assembler = VectorAssembler(inputCols=nuevas_vars ,outputCol=\"features\")\n",
    "assembler = assembler.transform(df_util)\n",
    "\n",
    "keep_vars = [\"index\", \"features\", 'rangoatrasohoras']\n",
    "df_assembler = assembler[keep_vars]\n",
    "assembler.show(2)"
   ]
  },
  {
   "cell_type": "markdown",
   "metadata": {},
   "source": [
    "## Modelado"
   ]
  },
  {
   "cell_type": "markdown",
   "metadata": {},
   "source": [
    "###  Formato al Dataframe "
   ]
  },
  {
   "cell_type": "code",
   "execution_count": 207,
   "metadata": {},
   "outputs": [
    {
     "name": "stdout",
     "output_type": "stream",
     "text": [
      "+-----+--------------------+-------------+-------------+\n",
      "|index|            features|categoryIndex|  categoryVec|\n",
      "+-----+--------------------+-------------+-------------+\n",
      "|    0|[-4.0,0.0,0.0,9.0...|          0.0|(3,[0],[1.0])|\n",
      "|    1|[18.0,18.0,1.0,13...|          0.0|(3,[0],[1.0])|\n",
      "|    2|[36.0,36.0,1.0,12...|          0.0|(3,[0],[1.0])|\n",
      "|    3|[36.0,36.0,1.0,15...|          0.0|(3,[0],[1.0])|\n",
      "|    4|[-7.0,0.0,0.0,8.0...|          0.0|(3,[0],[1.0])|\n",
      "|    5|[-4.0,0.0,0.0,22....|          0.0|(3,[0],[1.0])|\n",
      "|    6|[1.0,1.0,0.0,11.0...|          0.0|(3,[0],[1.0])|\n",
      "|    7|[12.0,12.0,0.0,17...|          0.0|(3,[0],[1.0])|\n",
      "|    8|[166.0,166.0,1.0,...|          1.0|(3,[1],[1.0])|\n",
      "|    9|[-2.0,0.0,0.0,22....|          0.0|(3,[0],[1.0])|\n",
      "+-----+--------------------+-------------+-------------+\n",
      "only showing top 10 rows\n",
      "\n"
     ]
    }
   ],
   "source": [
    "from pyspark.ml.feature import OneHotEncoder, StringIndexer\n",
    "\n",
    "\n",
    "# Esta funcion agrega un id numerico a cada valor diferente de un valor categorico \n",
    "# es como establecer los niveles en R de una factor pero los niveles son numericos,\n",
    "# sus id. El indice se establece por orden de frecuencia (descendente), por lo que \n",
    "# el indice 0 corresponde a la variable que aparece con mas frecuencia\n",
    "string_indexer = StringIndexer(inputCol='rangoatrasohoras', outputCol=\"categoryIndex\")\n",
    "model = string_indexer.fit(df_assembler)\n",
    "indexed = model.transform(df_assembler)\n",
    "\n",
    "# Antes falta escalar variables\n",
    "# OneHotEncoder no tiene un fit ya que solo es un transformador\n",
    "encoder = OneHotEncoder(inputCol=\"categoryIndex\", outputCol=\"categoryVec\")\n",
    "encoded = encoder.transform(indexed )\n",
    "df_encoded = encoded[[\"index\", \"features\", \"categoryIndex\",\"categoryVec\"]]\n",
    "\n",
    "df_encoded.show(10)"
   ]
  },
  {
   "cell_type": "code",
   "execution_count": 208,
   "metadata": {},
   "outputs": [
    {
     "name": "stdout",
     "output_type": "stream",
     "text": [
      "+-----+--------------------+-------------+-------------+\n",
      "|index|            features|categoryIndex|  categoryVec|\n",
      "+-----+--------------------+-------------+-------------+\n",
      "|    1|[18.0,18.0,1.0,13...|          0.0|(3,[0],[1.0])|\n",
      "|    2|[36.0,36.0,1.0,12...|          0.0|(3,[0],[1.0])|\n",
      "+-----+--------------------+-------------+-------------+\n",
      "only showing top 2 rows\n",
      "\n"
     ]
    }
   ],
   "source": [
    "# Podemos empezar con el modelado\n",
    "#from pyspark.sql import randomSplit\n",
    "\n",
    "# Separamos en train y test\n",
    "df_train, df_test = df_encoded.randomSplit([0.8,0.2], 123)\n",
    "df_test.show(2)"
   ]
  },
  {
   "cell_type": "code",
   "execution_count": 209,
   "metadata": {},
   "outputs": [
    {
     "name": "stdout",
     "output_type": "stream",
     "text": [
      "ChiSqSelector output with top 10 features selected\n",
      "+-----+--------------------+-------------+-------------+\n",
      "|index|    selectedFeatures|categoryIndex|  categoryVec|\n",
      "+-----+--------------------+-------------+-------------+\n",
      "|    0|[-4.0,0.0,0.0,9.0...|          0.0|(3,[0],[1.0])|\n",
      "|    4|[-7.0,0.0,0.0,8.0...|          0.0|(3,[0],[1.0])|\n",
      "+-----+--------------------+-------------+-------------+\n",
      "only showing top 2 rows\n",
      "\n"
     ]
    }
   ],
   "source": [
    "\n",
    "from pyspark.ml.feature import ChiSqSelector\n",
    "from pyspark.ml.linalg import Vectors\n",
    "\n",
    "from pyspark.ml.evaluation import RegressionEvaluator\n",
    "from pyspark.ml.regression import LinearRegression\n",
    "from pyspark.ml.tuning import ParamGridBuilder, TrainValidationSplit\n",
    "\n",
    "\n",
    "selector = ChiSqSelector(numTopFeatures=10, featuresCol=\"features\",\n",
    "                         outputCol=\"selectedFeatures\", labelCol=\"categoryIndex\")\n",
    "\n",
    "selector_model = selector.fit(df_train)\n",
    "\n",
    "selector_result = selector_model.transform(df_train)\n",
    "print(\"ChiSqSelector output with top %d features selected\" % selector.getNumTopFeatures())\n",
    "\n",
    "df_train = selector_result[[\"index\", \"selectedFeatures\", \"categoryIndex\",\"categoryVec\"]]\n",
    "\n",
    "df_train.show(2)\n",
    "\n",
    "selector_result2 = selector_model.transform(df_test)\n",
    "\n",
    "df_test = selector_result2[[\"index\", \"selectedFeatures\", \"categoryIndex\",\"categoryVec\"]]\n"
   ]
  },
  {
   "cell_type": "code",
   "execution_count": 210,
   "metadata": {},
   "outputs": [
    {
     "name": "stdout",
     "output_type": "stream",
     "text": [
      "+-----+--------------------+-------------+-------------+\n",
      "|index|     scaled_features|categoryIndex|  categoryVec|\n",
      "+-----+--------------------+-------------+-------------+\n",
      "|    0|[-0.1967629108606...|          0.0|(3,[0],[1.0])|\n",
      "|    4|[-0.2663808227574...|          0.0|(3,[0],[1.0])|\n",
      "+-----+--------------------+-------------+-------------+\n",
      "only showing top 2 rows\n",
      "\n"
     ]
    }
   ],
   "source": [
    "# Configuramos el estimator StandarScaler como lo necesitamos (por default\n",
    "# withMean esta en False porque hace que se regrese un vector dense...\n",
    "# hay que tener cuidado con eso cuando estemos manejandoo vectores sparse\n",
    "from pyspark.ml.feature import StandardScaler\n",
    "scaler = StandardScaler(inputCol=\"selectedFeatures\", outputCol=\"scaled_features\",\n",
    "                        withStd=True, withMean=True)\n",
    "# Creamos el modelo StandardScaler para los datos de entrada\n",
    "scaler_model = scaler.fit(df_train)\n",
    "\n",
    "# Transformamos los datos \n",
    "scaled_data = scaler_model.transform(df_train)\n",
    "\n",
    "df_train = scaled_data[[\"index\", \"scaled_features\", \"categoryIndex\",\"categoryVec\"]]\n",
    "df_train.show(2)\n",
    "\n",
    "scaled_data_test = scaler_model.transform(df_test)\n",
    "df_test = scaled_data_test[[\"index\", \"scaled_features\", \"categoryIndex\",\"categoryVec\"]]\n"
   ]
  },
  {
   "cell_type": "code",
   "execution_count": 211,
   "metadata": {},
   "outputs": [
    {
     "name": "stdout",
     "output_type": "stream",
     "text": [
      "Test Error = 0.0126459\n"
     ]
    }
   ],
   "source": [
    "from pyspark.ml.classification import LogisticRegression, OneVsRest\n",
    "from pyspark.ml.evaluation import MulticlassClassificationEvaluator\n",
    "\n",
    "# instantiate the base classifier.\n",
    "lr = LogisticRegression(maxIter=10, regParam=0.01, fitIntercept=True , \n",
    "                        labelCol =\"categoryIndex\", featuresCol = \"scaled_features\"  )\n",
    "\n",
    "# instantiate the One Vs Rest Classifier.\n",
    "ovr = OneVsRest(classifier=lr,  labelCol =\"categoryIndex\", featuresCol = \"scaled_features\" )\n",
    "\n",
    "# train the multiclass model.\n",
    "ovrModel = ovr.fit(df_train)\n",
    "\n",
    "# score the model on test data.\n",
    "predictions = ovrModel.transform(df_test)\n",
    "\n",
    "# obtain evaluator.\n",
    "evaluator = MulticlassClassificationEvaluator(metricName=\"accuracy\",labelCol =\"categoryIndex\")\n",
    "\n",
    "# compute the classification error on test data.\n",
    "accuracy = evaluator.evaluate(predictions )\n",
    "print(\"Test Error = %g\" % (1.0 - accuracy))"
   ]
  },
  {
   "cell_type": "markdown",
   "metadata": {},
   "source": [
    "## Util para "
   ]
  },
  {
   "cell_type": "code",
   "execution_count": 212,
   "metadata": {},
   "outputs": [
    {
     "name": "stdout",
     "output_type": "stream",
     "text": [
      "LogisticRegression parameters:\n",
      "aggregationDepth: suggested depth for treeAggregate (>= 2). (default: 2)\n",
      "elasticNetParam: the ElasticNet mixing parameter, in range [0, 1]. For alpha = 0, the penalty is an L2 penalty. For alpha = 1, it is an L1 penalty. (default: 0.0)\n",
      "family: The name of family which is a description of the label distribution to be used in the model. Supported options: auto, binomial, multinomial (default: auto)\n",
      "featuresCol: features column name. (default: features, current: scaled_features)\n",
      "fitIntercept: whether to fit an intercept term. (default: True)\n",
      "labelCol: label column name. (default: label, current: categoryVec)\n",
      "lowerBoundsOnCoefficients: The lower bounds on coefficients if fitting under bound constrained optimization. The bound matrix must be compatible with the shape (1, number of features) for binomial regression, or (number of classes, number of features) for multinomial regression. (undefined)\n",
      "lowerBoundsOnIntercepts: The lower bounds on intercepts if fitting under bound constrained optimization. The bounds vector size must beequal with 1 for binomial regression, or the number oflasses for multinomial regression. (undefined)\n",
      "maxIter: max number of iterations (>= 0). (default: 100, current: 10)\n",
      "predictionCol: prediction column name. (default: prediction)\n",
      "probabilityCol: Column name for predicted class conditional probabilities. Note: Not all models output well-calibrated probability estimates! These probabilities should be treated as confidences, not precise probabilities. (default: probability)\n",
      "rawPredictionCol: raw prediction (a.k.a. confidence) column name. (default: rawPrediction)\n",
      "regParam: regularization parameter (>= 0). (default: 0.0, current: 0.01)\n",
      "standardization: whether to standardize the training features before fitting the model. (default: True)\n",
      "threshold: Threshold in binary classification prediction, in range [0, 1]. If threshold and thresholds are both set, they must match.e.g. if threshold is p, then thresholds must be equal to [1-p, p]. (default: 0.5)\n",
      "thresholds: Thresholds in multi-class classification to adjust the probability of predicting each class. Array must have length equal to the number of classes, with values > 0, excepting that at most one value may be 0. The class with largest value p/t is predicted, where p is the original probability of that class and t is the class's threshold. (undefined)\n",
      "tol: the convergence tolerance for iterative algorithms (>= 0). (default: 1e-06)\n",
      "upperBoundsOnCoefficients: The upper bounds on coefficients if fitting under bound constrained optimization. The bound matrix must be compatible with the shape (1, number of features) for binomial regression, or (number of classes, number of features) for multinomial regression. (undefined)\n",
      "upperBoundsOnIntercepts: The upper bounds on intercepts if fitting under bound constrained optimization. The bound vector size must be equal with 1 for binomial regression, or the number of classes for multinomial regression. (undefined)\n",
      "weightCol: weight column name. If this is not set or empty, we treat all instance weights as 1.0. (undefined)\n",
      "\n",
      "LogisticRegression parameters:\n",
      "labelCol: label column name. (default: label, current: categoryIndex)\n",
      "metricName: metric name in evaluation (f1|weightedPrecision|weightedRecall|accuracy) (default: f1, current: accuracy)\n",
      "predictionCol: prediction column name. (default: prediction)\n",
      "\n"
     ]
    }
   ],
   "source": [
    "from pyspark.ml.linalg import Vectors\n",
    "from pyspark.ml.classification import LogisticRegression\n",
    "from pyspark.ml.classification import LogisticRegression, OneVsRest\n",
    "\n",
    "lr = LogisticRegression(maxIter=10, regParam=0.01,\n",
    "                       labelCol =\"categoryVec\", featuresCol = \"scaled_features\"  )\n",
    "\n",
    "# instantiate the One Vs Rest Classifier.\n",
    "ovr = OneVsRest(classifier=lr)\n",
    "\n",
    "print(\"LogisticRegression parameters:\\n\" + lr.explainParams() + \"\\n\")\n",
    "print(\"LogisticRegression parameters:\\n\" +evaluator.explainParams() + \"\\n\")\n"
   ]
  },
  {
   "cell_type": "code",
   "execution_count": null,
   "metadata": {},
   "outputs": [],
   "source": []
  }
 ],
 "metadata": {
  "kernelspec": {
   "display_name": "Python 3",
   "language": "python",
   "name": "python3"
  },
  "language_info": {
   "codemirror_mode": {
    "name": "ipython",
    "version": 3
   },
   "file_extension": ".py",
   "mimetype": "text/x-python",
   "name": "python",
   "nbconvert_exporter": "python",
   "pygments_lexer": "ipython3",
   "version": "3.7.6"
  }
 },
 "nbformat": 4,
 "nbformat_minor": 4
}
